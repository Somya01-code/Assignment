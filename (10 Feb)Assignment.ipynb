{
 "cells": [
  {
   "cell_type": "markdown",
   "id": "37185133-5925-41be-bb70-f8b36ca0634f",
   "metadata": {},
   "source": [
    "# PYTHON ASSIGNMENT-11 (10 FEB 2023)"
   ]
  },
  {
   "cell_type": "markdown",
   "id": "2dffa284-6400-467f-b3db-c9a0956bf00c",
   "metadata": {},
   "source": [
    "Q1. Which function is used to open a file? What are the different modes of opening a file? Explain each mode\n",
    "of file opening."
   ]
  },
  {
   "cell_type": "markdown",
   "id": "466a4412-ac4d-4820-a6d2-6e7cf42acd77",
   "metadata": {},
   "source": [
    "Ans.\n",
    "- open() is used to open a file in python. It returns a file object.\n",
    "- Syntax -\n",
    "- open (filename, mode)\n",
    "\n",
    "- 'mode' - is a string that defines in which mode we need to open the file.\n",
    "- There are various modes in python to open a file :\n",
    "1. Read:    'r'- It is default mode that opens file in reading mode (no changes can be done),it gives error when file does not exist.\n",
    "2. Write:   'w'- It opens file for writing. Previous data is overwritten if file contains data. It creates new file if fle does not exist.\n",
    "3. Append:  'a'- It opens the file for appending. It creates new file if fle does not exist.\n",
    "4. Create:  'x'- It creates a specified file. If the file already exists, it throws error.\n",
    "5. Text:    't'- Specifies if the file should be opened in text mode. It is the default mode.\n",
    "6. Binary:  'b'- Specifies if the file should be opened in binary format."
   ]
  },
  {
   "cell_type": "markdown",
   "id": "a46f25c4-f3a4-408d-8840-0779a0542cba",
   "metadata": {},
   "source": [
    "Q2. Why close() function is used? Why is it important to close a file?"
   ]
  },
  {
   "cell_type": "markdown",
   "id": "c0a60244-fc1e-4d44-a907-8c41456be1d7",
   "metadata": {},
   "source": [
    "Ans.\n",
    "- close() is used to close the file . Closing the file is necessary after the task is completed because it is possible due to buffering that the changes are not visible in the file until it is closed. \n",
    "- Syntax - f.close()\n",
    "- eg"
   ]
  },
  {
   "cell_type": "code",
   "execution_count": 1,
   "id": "731fa4a5-63d5-4ebf-8a86-c57a4c1c01bf",
   "metadata": {},
   "outputs": [],
   "source": [
    "f= open(\"text.txt\",'w')\n",
    "f.write(\"This is an exampl for close function.\")\n",
    "f.close()"
   ]
  },
  {
   "cell_type": "markdown",
   "id": "d844462b-563d-474d-9325-b2cf441dc823",
   "metadata": {},
   "source": [
    "Q3. Write a python program to create a text file. Write ‘I want to become a Data Scientist’ in that file. Then\n",
    "close the file. Open this file and read the content of the file."
   ]
  },
  {
   "cell_type": "code",
   "execution_count": 2,
   "id": "d3b1a33f-9d67-431e-b902-2dd223914b83",
   "metadata": {},
   "outputs": [],
   "source": [
    "f= open(\"DataScience.txt\",'w')\n",
    "f.write(\"I want to become a Data Scientist.\")\n",
    "f.close()"
   ]
  },
  {
   "cell_type": "code",
   "execution_count": 3,
   "id": "6f5cd01a-00ef-42df-9cc9-6edf9927d869",
   "metadata": {},
   "outputs": [
    {
     "data": {
      "text/plain": [
       "'I want to become a Data Scientist.'"
      ]
     },
     "execution_count": 3,
     "metadata": {},
     "output_type": "execute_result"
    }
   ],
   "source": [
    "f = open(\"DataScience.txt\",'r')\n",
    "f.read()"
   ]
  },
  {
   "cell_type": "code",
   "execution_count": 4,
   "id": "d8709135-8dd6-42a9-848d-a67ad36b67ec",
   "metadata": {},
   "outputs": [],
   "source": [
    "f.close()"
   ]
  },
  {
   "cell_type": "markdown",
   "id": "16702e1f-a85c-4916-83be-89d4c2dc99c0",
   "metadata": {},
   "source": [
    "Q4. Explain the following with python code: read(), readline() and readlines()."
   ]
  },
  {
   "cell_type": "markdown",
   "id": "90fd58ef-e9ce-4ccf-9c95-a014001633da",
   "metadata": {},
   "source": [
    "Ans.\n",
    "- read() - It reads the file and returns the bytes in form of string. It reads n bytes, if n not specified it returns the entire file.\n",
    "- readline() - It reads the file and returns the bytes in form of string. Also, it returns one line at a time. It is efficient when we need to get some lines of text from a large file.\n",
    "- readlines() - Readlines ( ) is used to read all the lines at a single go and then return them as a string element in a list. This function can be used for small files, as it reads the whole file content to the memory, then splits it into separate lines."
   ]
  },
  {
   "cell_type": "code",
   "execution_count": 5,
   "id": "d376b50f-0d16-4325-a833-ded13b3bfad6",
   "metadata": {},
   "outputs": [],
   "source": [
    "f = open(\"text2.txt\",'w')\n",
    "f.write(\"He was asking too many questions and he was asking them too quickly.\\n They were stacking up in my head like loaves in the factory where Uncle Terry works.\\n The factory is a bakery and he operates the slicing machines.\\n And sometimes the slicer is not working fast enough but the bread keeps coming and there is a blockage.\\n I sometimes think of my mind as a machine, but not always as a bread-slicing machine.\\n It makes it easier to explain to other people what is going on inside it.\")\n",
    "f.close()"
   ]
  },
  {
   "cell_type": "code",
   "execution_count": 6,
   "id": "c5bdf42b-bdb3-4711-9507-fab751bcaf31",
   "metadata": {},
   "outputs": [
    {
     "data": {
      "text/plain": [
       "'He was asking too many questions and he was asking them too quickly.\\n They were stacking up in my head like loaves in the factory where Uncle Terry works.\\n The factory is a bakery and he operates the slicing machines.\\n And sometimes the slicer is not working fast enough but the bread keeps coming and there is a blockage.\\n I sometimes think of my mind as a machine, but not always as a bread-slicing machine.\\n It makes it easier to explain to other people what is going on inside it.'"
      ]
     },
     "execution_count": 6,
     "metadata": {},
     "output_type": "execute_result"
    }
   ],
   "source": [
    "#  read() example\n",
    "f = open(\"text2.txt\",'r')\n",
    "f.read()"
   ]
  },
  {
   "cell_type": "code",
   "execution_count": 7,
   "id": "e1a8c825-731d-4994-b28a-0e4dce9431fb",
   "metadata": {},
   "outputs": [
    {
     "data": {
      "text/plain": [
       "0"
      ]
     },
     "execution_count": 7,
     "metadata": {},
     "output_type": "execute_result"
    }
   ],
   "source": [
    "f.seek(0)"
   ]
  },
  {
   "cell_type": "code",
   "execution_count": 8,
   "id": "bc483969-1b63-488f-8023-187c7b162b9d",
   "metadata": {},
   "outputs": [
    {
     "data": {
      "text/plain": [
       "'He was asking too many questions and he was asking them too quickly.\\n'"
      ]
     },
     "execution_count": 8,
     "metadata": {},
     "output_type": "execute_result"
    }
   ],
   "source": [
    "# readline() example\n",
    "f.readline()"
   ]
  },
  {
   "cell_type": "code",
   "execution_count": 9,
   "id": "28c67a99-885f-4248-af8d-26e094080ed5",
   "metadata": {},
   "outputs": [],
   "source": [
    "f.readline()\n",
    "f.close()"
   ]
  },
  {
   "cell_type": "code",
   "execution_count": 10,
   "id": "5ed6f91f-106a-4c5b-a89a-f2c10033b3c9",
   "metadata": {},
   "outputs": [
    {
     "name": "stdout",
     "output_type": "stream",
     "text": [
      "1. Good courses\n",
      "2. Gain skills\n",
      "3. Get Jo oppurtunities\n",
      "4. Stay Updated\n"
     ]
    }
   ],
   "source": [
    "# readlines() example\n",
    "pwskills=[\"Good courses\\n\",\"Gain skills\\n\",\"Get Jo oppurtunities\\n\",\"Stay Updated\\n\"]\n",
    "f = open(\"text3.txt\",'w')\n",
    "f.writelines(pwskills)\n",
    "f.close()\n",
    "\n",
    "file = open('text3.txt', 'r')  \n",
    "Statements = file.readlines()  \n",
    "count = 0  \n",
    "for line in Statements:                                     \n",
    "    count = count + 1  \n",
    "    print(\"{}. {}\".format(count, line.strip()))  "
   ]
  },
  {
   "cell_type": "markdown",
   "id": "66bf54da-7025-4fc3-a4b1-73c47539da48",
   "metadata": {},
   "source": [
    "Q5. Explain why with statement is used with open(). What is the advantage of using with statement and\n",
    "open() together?"
   ]
  },
  {
   "cell_type": "markdown",
   "id": "92354f24-f62d-498a-8524-8ce6f0ba6142",
   "metadata": {},
   "source": [
    "Ans.\n",
    "- In Python, we can access a file by using the open() method. However, using the open() method requires you to use the close() method to close the file explicitly.\n",
    "- Unlike open() where we have to close the file with the close() method, the with statement closes the file for us without even us telling it to.\n",
    "- This is because the with statement calls 2 built-in methods behind the scene – __enter()__ and __exit()__.\n",
    "- eg:"
   ]
  },
  {
   "cell_type": "code",
   "execution_count": 11,
   "id": "d0aff137-fa12-4e53-9e6c-d3764cc9f812",
   "metadata": {},
   "outputs": [],
   "source": [
    "with open(\"welcome.txt\",'w') as f:\n",
    "    f.write(\"Hi, welcome to pwskills\\n\")\n",
    "    f.write(\"Here, you can learn every skill to become job ready.\\n\")\n",
    "    f.write(\"Best mentors and experts are available to guide you.\\n\")"
   ]
  },
  {
   "cell_type": "markdown",
   "id": "734322fa-7651-406b-b18a-bcc589ae562c",
   "metadata": {},
   "source": [
    "Q6. Explain the write() and writelines() functions. Give a suitable example."
   ]
  },
  {
   "cell_type": "markdown",
   "id": "7426ec66-0cb5-4fb0-a970-4c43af55125a",
   "metadata": {},
   "source": [
    "Ans.\n",
    "- The write() function will write the content in the file without adding any extra characters.\n",
    "- The writelines() function  writes the content of a list to a file.\n",
    "- The only difference between the write() and writelines() is that write() is used to write a string to an already opened file while writelines() method is used to write a list of strings in an opened file.\n",
    "- eg:"
   ]
  },
  {
   "cell_type": "code",
   "execution_count": 12,
   "id": "7a918096-fff1-4ecb-8294-3b485ed5a6c6",
   "metadata": {},
   "outputs": [
    {
     "name": "stdout",
     "output_type": "stream",
     "text": [
      "Data successfully entered in Welcome1.txt\n"
     ]
    }
   ],
   "source": [
    "# write() example\n",
    "with open(\"welcome1.txt\",'w') as f:\n",
    "    f.write(\"Hi, welcome to pwskills\\n\")\n",
    "    f.write(\"Here, you can learn every skill to become job ready.\\n\")\n",
    "    f.write(\"Best mentors and experts are available to guide you.\\n\")\n",
    "print(\"Data successfully entered in Welcome1.txt\")"
   ]
  },
  {
   "cell_type": "code",
   "execution_count": 13,
   "id": "460557d9-d76f-432e-bb8b-fdef4bafeba5",
   "metadata": {},
   "outputs": [
    {
     "name": "stdout",
     "output_type": "stream",
     "text": [
      "Data successfully entered in Welcome2.txt\n"
     ]
    }
   ],
   "source": [
    "# writelines() example\n",
    "lst=[\"Hi, welcome to pwskills\\n\",\"Here, you can learn every skill to become job ready.\\n\",\"Best mentors and experts are available to guide you.\\n\"]\n",
    "with open(\"welcome2.txt\",'w') as f:\n",
    "    f.writelines(lst)\n",
    "print(\"Data successfully entered in Welcome2.txt\")"
   ]
  }
 ],
 "metadata": {
  "kernelspec": {
   "display_name": "Python 3 (ipykernel)",
   "language": "python",
   "name": "python3"
  },
  "language_info": {
   "codemirror_mode": {
    "name": "ipython",
    "version": 3
   },
   "file_extension": ".py",
   "mimetype": "text/x-python",
   "name": "python",
   "nbconvert_exporter": "python",
   "pygments_lexer": "ipython3",
   "version": "3.10.8"
  }
 },
 "nbformat": 4,
 "nbformat_minor": 5
}
