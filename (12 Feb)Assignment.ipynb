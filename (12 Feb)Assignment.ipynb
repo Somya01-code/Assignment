{
 "cells": [
  {
   "cell_type": "markdown",
   "id": "675383f1-cab2-4cfb-9d2d-5d0ff1937ec5",
   "metadata": {},
   "source": [
    "# PYTHON ASSIGNMENT-12 (12 FEB 2023)"
   ]
  },
  {
   "cell_type": "markdown",
   "id": "46e098a4-6faa-4a90-829d-7f8e39efd538",
   "metadata": {},
   "source": [
    "Q1. What is an Exception in python? Write the difference between Exceptions and syntax errors"
   ]
  },
  {
   "cell_type": "markdown",
   "id": "c37a56cc-5893-4abe-a888-402e1978b85d",
   "metadata": {},
   "source": [
    "Ans. \n",
    "- An exception in python is an incident that happens in a program while execution that disrupts the normal flow of the program.\n",
    "- When a Python code comes across a condition it can't handle, it raises an exception.\n",
    "- In other words, an Exception is an Event, which occurs during the execution of the program. It is also known as a run time error. When that error occurs, Python generates an exception during the execution and that can be handled, which avoids your program to interrupt."
   ]
  },
  {
   "cell_type": "markdown",
   "id": "ace97656-0d4f-4915-9c3b-0a88dba1013d",
   "metadata": {},
   "source": [
    "DIFFERENCE BETWEEN ERROR AND EXCEPTION:\n",
    "- Errors are the problems in a program due to which the program will stop the execution. These are of two types:\n",
    "1. Syntax error\n",
    "2. Logical error\n",
    "- On the other hand, exceptions are raised when some internal events occur which changes the normal flow of the program. These are of following types:\n",
    "1. IndexError\n",
    "2. AssertionErroe\n",
    "3. Attribute Error\n",
    "4. ImportError\n",
    "5. KeyError\n",
    "6. NameError\n",
    "7. MemoryError\n",
    "8. TypeError"
   ]
  },
  {
   "cell_type": "markdown",
   "id": "970dda7e-1748-408a-9324-0de1d5e0527c",
   "metadata": {},
   "source": [
    "Q2. What happens when an exception is not handled ? Explain with an example."
   ]
  },
  {
   "cell_type": "markdown",
   "id": "abd2feba-21d5-4de5-9696-f5bfcdedc9a7",
   "metadata": {},
   "source": [
    "Ans. \n",
    "- An exception is a case that might cause error while exexcution. IF it is not handled, it will throw an error.\n",
    "- This can be seen in below example."
   ]
  },
  {
   "cell_type": "code",
   "execution_count": 1,
   "id": "7bad05f4-b904-48e2-8708-8441ace2e147",
   "metadata": {},
   "outputs": [
    {
     "name": "stdin",
     "output_type": "stream",
     "text": [
      "Enter numerator: 10\n",
      "Enter denominator: 0\n"
     ]
    },
    {
     "ename": "ZeroDivisionError",
     "evalue": "division by zero",
     "output_type": "error",
     "traceback": [
      "\u001b[0;31m---------------------------------------------------------------------------\u001b[0m",
      "\u001b[0;31mZeroDivisionError\u001b[0m                         Traceback (most recent call last)",
      "Cell \u001b[0;32mIn[1], line 3\u001b[0m\n\u001b[1;32m      1\u001b[0m num \u001b[38;5;241m=\u001b[39m \u001b[38;5;28mint\u001b[39m(\u001b[38;5;28minput\u001b[39m(\u001b[38;5;124m\"\u001b[39m\u001b[38;5;124mEnter numerator:\u001b[39m\u001b[38;5;124m\"\u001b[39m))\n\u001b[1;32m      2\u001b[0m den \u001b[38;5;241m=\u001b[39m \u001b[38;5;28mint\u001b[39m(\u001b[38;5;28minput\u001b[39m(\u001b[38;5;124m\"\u001b[39m\u001b[38;5;124mEnter denominator:\u001b[39m\u001b[38;5;124m\"\u001b[39m))\n\u001b[0;32m----> 3\u001b[0m result \u001b[38;5;241m=\u001b[39m \u001b[43mnum\u001b[49m\u001b[38;5;241;43m/\u001b[39;49m\u001b[43mden\u001b[49m\n\u001b[1;32m      4\u001b[0m \u001b[38;5;28mprint\u001b[39m(result)\n",
      "\u001b[0;31mZeroDivisionError\u001b[0m: division by zero"
     ]
    }
   ],
   "source": [
    "num = int(input(\"Enter numerator:\"))\n",
    "den = int(input(\"Enter denominator:\"))\n",
    "result = num/den\n",
    "print(result)"
   ]
  },
  {
   "cell_type": "code",
   "execution_count": 2,
   "id": "b6a157c3-577a-4515-a4f4-074e801522a8",
   "metadata": {},
   "outputs": [
    {
     "name": "stdin",
     "output_type": "stream",
     "text": [
      "Enter numerator: 10\n",
      "Enter denominator: 0\n"
     ]
    },
    {
     "name": "stdout",
     "output_type": "stream",
     "text": [
      "ERROR- denominator cannot be 0.\n"
     ]
    }
   ],
   "source": [
    "#  since the exception was not handled, the error came while execution\n",
    "#  This can be handled as:\n",
    "num = int(input(\"Enter numerator:\"))\n",
    "den = int(input(\"Enter denominator:\"))\n",
    "try:\n",
    "    result = num/den\n",
    "    print(result)\n",
    "except:\n",
    "    print(\"ERROR- denominator cannot be 0.\")"
   ]
  },
  {
   "cell_type": "markdown",
   "id": "f99d838a-6e31-4659-b907-fccc965d8d39",
   "metadata": {},
   "source": [
    "Q3. Which Python statements are used to catch and handle exceptions ? Explain with exmaple."
   ]
  },
  {
   "cell_type": "markdown",
   "id": "dae890c9-46d6-4508-bc17-6acddec09670",
   "metadata": {},
   "source": [
    "Ans.\n",
    "- try and except blocks are used to catch and handle exceptions.\n",
    "- The statements that can raise exception are kept under try block.\n",
    "- The statements that handle the raised exception are kept in except block.\n",
    "- eg:"
   ]
  },
  {
   "cell_type": "code",
   "execution_count": 3,
   "id": "92c2d9a0-4c8e-4264-a232-e80aeb6322bc",
   "metadata": {},
   "outputs": [
    {
     "name": "stdout",
     "output_type": "stream",
     "text": [
      "Wrong index value given\n"
     ]
    }
   ],
   "source": [
    "lst= [2,4,6,8,10]\n",
    "try:\n",
    "    l = len(lst)\n",
    "    print(lst[l])\n",
    "except:\n",
    "    print(\"Wrong index value given\")"
   ]
  },
  {
   "cell_type": "markdown",
   "id": "c22421ab-d34d-46e8-8ef0-07043a42b8a8",
   "metadata": {},
   "source": [
    "Q4. Explain with an example:\n",
    "1. try and else\n",
    "2. finally\n",
    "3. raise"
   ]
  },
  {
   "cell_type": "markdown",
   "id": "4bf51771-233f-484e-9b1d-1847a025e6a9",
   "metadata": {},
   "source": [
    "Ans.\n",
    "1. try and else: try block is used when we expect an exception while we execute the code. We use the else keyword to define a block of code to be executed if no errors were raised. eg:\n"
   ]
  },
  {
   "cell_type": "markdown",
   "id": "c4a031ea-7667-497d-8ebe-a96d11971494",
   "metadata": {},
   "source": [
    "def divide(x, y):\n",
    "    try:\n",
    "        result = x % y\n",
    "    except ZeroDivisionError:\n",
    "        print(\"You are dividing by zero \")\n",
    "    else:\n",
    "        print(\"Your answer is :\", result)\n",
    "        \n",
    "divide(3, 2)\n",
    "divide(3, 0)"
   ]
  },
  {
   "cell_type": "markdown",
   "id": "75cfa795-4e08-415f-9c06-61129eb61a28",
   "metadata": {},
   "source": [
    "2. finally: When we wish to run the code in both the cases, i.e., after try block as well as after except block we use finally block. eg:"
   ]
  },
  {
   "cell_type": "code",
   "execution_count": 4,
   "id": "793d8ff5-f2fe-46ae-ab42-67fd0dc9ce1b",
   "metadata": {},
   "outputs": [
    {
     "name": "stdout",
     "output_type": "stream",
     "text": [
      "Your answer is : 2\n",
      "ALWAYS REMEMBER: Do not divide by zero, unexpected results occur.\n",
      "You are dividing by zero \n",
      "ALWAYS REMEMBER: Do not divide by zero, unexpected results occur.\n"
     ]
    }
   ],
   "source": [
    "def divide(x, y):\n",
    "    try:\n",
    "        result = x // y\n",
    "    except ZeroDivisionError:\n",
    "        print(\"You are dividing by zero \")\n",
    "    else:\n",
    "        print(\"Your answer is :\", result)\n",
    "    finally: \n",
    "        print('ALWAYS REMEMBER: Do not divide by zero, unexpected results occur.') \n",
    "        \n",
    "divide(10, 5)\n",
    "divide(10, 0)"
   ]
  },
  {
   "cell_type": "markdown",
   "id": "ec1471ce-917d-49ca-ab3d-05057009c90f",
   "metadata": {},
   "source": [
    "3. raise: \n",
    "- raise Keyword is used to raise exceptions or errors.\n",
    "- The raise keyword raises an error and stops the control flow of the program.\n",
    "- It is used to bring up the current exception in an exception handler so that it can be handled further up the call stack.\n",
    "- eg:"
   ]
  },
  {
   "cell_type": "code",
   "execution_count": 5,
   "id": "242ad1b5-4aea-4efc-8843-b14d0bb94601",
   "metadata": {},
   "outputs": [
    {
     "ename": "ValueError",
     "evalue": "String can't be changed into integer",
     "output_type": "error",
     "traceback": [
      "\u001b[0;31m---------------------------------------------------------------------------\u001b[0m",
      "\u001b[0;31mValueError\u001b[0m                                Traceback (most recent call last)",
      "Cell \u001b[0;32mIn[5], line 4\u001b[0m\n\u001b[1;32m      3\u001b[0m \u001b[38;5;28;01mtry\u001b[39;00m:\n\u001b[0;32m----> 4\u001b[0m     num \u001b[38;5;241m=\u001b[39m \u001b[38;5;28;43mint\u001b[39;49m\u001b[43m(\u001b[49m\u001b[43ms\u001b[49m\u001b[43m)\u001b[49m\n\u001b[1;32m      5\u001b[0m \u001b[38;5;28;01mexcept\u001b[39;00m \u001b[38;5;167;01mValueError\u001b[39;00m:\n",
      "\u001b[0;31mValueError\u001b[0m: invalid literal for int() with base 10: 'pwskills'",
      "\nDuring handling of the above exception, another exception occurred:\n",
      "\u001b[0;31mValueError\u001b[0m                                Traceback (most recent call last)",
      "Cell \u001b[0;32mIn[5], line 6\u001b[0m\n\u001b[1;32m      4\u001b[0m     num \u001b[38;5;241m=\u001b[39m \u001b[38;5;28mint\u001b[39m(s)\n\u001b[1;32m      5\u001b[0m \u001b[38;5;28;01mexcept\u001b[39;00m \u001b[38;5;167;01mValueError\u001b[39;00m:\n\u001b[0;32m----> 6\u001b[0m     \u001b[38;5;28;01mraise\u001b[39;00m \u001b[38;5;167;01mValueError\u001b[39;00m(\u001b[38;5;124m\"\u001b[39m\u001b[38;5;124mString can\u001b[39m\u001b[38;5;124m'\u001b[39m\u001b[38;5;124mt be changed into integer\u001b[39m\u001b[38;5;124m\"\u001b[39m)\n",
      "\u001b[0;31mValueError\u001b[0m: String can't be changed into integer"
     ]
    }
   ],
   "source": [
    "s = 'pwskills'\n",
    "  \n",
    "try:\n",
    "    num = int(s)\n",
    "except ValueError:\n",
    "    raise ValueError(\"String can't be changed into integer\")"
   ]
  },
  {
   "cell_type": "markdown",
   "id": "5320b603-ad59-4938-820d-eb977404bb97",
   "metadata": {},
   "source": [
    "Q5. What are custom exceptions in Python? Why do we need custom exceptions? Explain with an example."
   ]
  },
  {
   "cell_type": "markdown",
   "id": "08da3696-acac-4749-beb5-efc74882e431",
   "metadata": {},
   "source": [
    "Ans.\n",
    "- Like standard exception classes, custom exceptions are also classes.\n",
    "- Python throws errors and exceptions when the code goes wrong, which may cause the program to stop abruptly. Python also provides an exception handling method with the help of try-except. \n",
    "- Custom exceptuons are the user defined exception in Python.\n",
    "- WE NEED CUSTOM EXCEPTIONS BECAUSE: Built-in exceptions offer information about Python-related problems, and custom exceptions will add information about project-related problems. That way, we can design our code (and traceback, if an exception is raised) in a way that combines Python code with the language of the project.\n",
    "- eg :"
   ]
  },
  {
   "cell_type": "code",
   "execution_count": 6,
   "id": "3b6be2e1-587e-4799-a195-c24c5080f0d8",
   "metadata": {},
   "outputs": [
    {
     "name": "stdout",
     "output_type": "stream",
     "text": [
      "This is my custom exception\n"
     ]
    }
   ],
   "source": [
    "class CustomException(Exception):\n",
    "    \"\"\" my custom exception class \"\"\"\n",
    "\n",
    "\n",
    "try:\n",
    "    raise CustomException('This is my custom exception')\n",
    "except CustomException as ex:\n",
    "    print(ex)"
   ]
  },
  {
   "cell_type": "markdown",
   "id": "0b7191c6-8b3d-4313-b02c-4411a3756c67",
   "metadata": {},
   "source": [
    "Q6. Create a custom exception class. Use this class to handle an exception."
   ]
  },
  {
   "cell_type": "code",
   "execution_count": 7,
   "id": "ed8ecb81-1b07-454d-be66-7d958858c0d1",
   "metadata": {},
   "outputs": [
    {
     "name": "stdin",
     "output_type": "stream",
     "text": [
      "Enter a temperature in Fahrenheit: 98\n"
     ]
    },
    {
     "name": "stdout",
     "output_type": "stream",
     "text": [
      "98.0 Fahrenheit = 36.6667 Celsius\n"
     ]
    }
   ],
   "source": [
    "class FahrenheitError(Exception):\n",
    "    min_f = 32\n",
    "    max_f = 212\n",
    "\n",
    "    def __init__(self, f, *args):\n",
    "        super().__init__(args)\n",
    "        self.f = f\n",
    "\n",
    "    def __str__(self):\n",
    "        return f'The {self.f} is not in a valid range {self.min_f, self.max_f}'\n",
    "    \n",
    "def fahrenheit_to_celsius(f: float) -> float:\n",
    "    if f < FahrenheitError.min_f or f > FahrenheitError.max_f:\n",
    "        raise FahrenheitError(f)\n",
    "\n",
    "    return (f - 32) * 5 / 9\n",
    "\n",
    "if __name__ == '__main__':\n",
    "    f = input('Enter a temperature in Fahrenheit:')\n",
    "    f = float(f)\n",
    "    try:\n",
    "        c = fahrenheit_to_celsius(float(f))\n",
    "    except FahrenheitError as ex:\n",
    "        print(ex)\n",
    "    else:\n",
    "        print(f'{f} Fahrenheit = {c:.4f} Celsius')"
   ]
  },
  {
   "cell_type": "code",
   "execution_count": null,
   "id": "39225911-f409-4cd6-a2e6-8641264e1cd5",
   "metadata": {},
   "outputs": [],
   "source": []
  }
 ],
 "metadata": {
  "kernelspec": {
   "display_name": "Python 3 (ipykernel)",
   "language": "python",
   "name": "python3"
  },
  "language_info": {
   "codemirror_mode": {
    "name": "ipython",
    "version": 3
   },
   "file_extension": ".py",
   "mimetype": "text/x-python",
   "name": "python",
   "nbconvert_exporter": "python",
   "pygments_lexer": "ipython3",
   "version": "3.10.8"
  }
 },
 "nbformat": 4,
 "nbformat_minor": 5
}
