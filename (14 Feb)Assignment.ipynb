{
 "cells": [
  {
   "cell_type": "markdown",
   "id": "304d6169-d392-408e-a08c-623e0140e1b5",
   "metadata": {},
   "source": [
    "# PYTHON ASSIGNMENT-14 (14 FEB 2023)"
   ]
  },
  {
   "cell_type": "markdown",
   "id": "09b7426f-b35f-4d0b-a177-a55ac1487b0f",
   "metadata": {},
   "source": [
    "Q1. What is multithreading in python? Why is it used? Name the module used to handle threads in python."
   ]
  },
  {
   "cell_type": "markdown",
   "id": "2724dc3f-8672-440b-ad31-48d69b7092e5",
   "metadata": {},
   "source": [
    "Ans.\n",
    "- Multithreading refres to the ability of the processor to execute multiple threads concurrently.\n",
    "- This means that in one core of CPU it is achieved using context switching that means frequent switching between the threads.\n",
    "- A thread is an entity within a process that can be scheduled for execution.\n",
    "- Multithreading increases CPU utilization through multitasking. As a result, a computer may execute and process multiple tasks simultaneously.\n",
    "- Various benefits of multithreading in the operating system are responsiveness, resource sharing, utilization of multiprocessor architecture, minimized system resource usage, etc.\n",
    "- 'threading' module is used to handle the module."
   ]
  },
  {
   "cell_type": "markdown",
   "id": "987e192b-914f-442a-9203-ddf982a8d0f6",
   "metadata": {},
   "source": [
    "Q2. Why threading module used? Write the use of the following functions\n",
    "1. activeCount()\n",
    "2. currentThread()\n",
    "3. enumerate()"
   ]
  },
  {
   "cell_type": "markdown",
   "id": "d01e00fc-7f3d-468d-b667-f28cb6ac9f05",
   "metadata": {},
   "source": [
    "Ans.\n",
    "- To achieve multithreading in Python, threading module is used.\n",
    "- The threading module exposes all the methods of the thread module and provides some additional methods:\n",
    "1. activeCount(): It returns the number of thread object that are active.\n",
    "2. currectThread(): It returns the number of thread objects that are in the caller's thread control.\n",
    "3. enumerate(): It returns the list of all the threads that are currently active."
   ]
  },
  {
   "cell_type": "markdown",
   "id": "1d21d6c7-57fa-4015-bc12-c5ff8ffd8e9a",
   "metadata": {},
   "source": [
    "Q3. Explain the following functions\n",
    "1. run()\n",
    "2. start()\n",
    "3. join()\n",
    "4. isAlive()"
   ]
  },
  {
   "cell_type": "markdown",
   "id": "467a0184-5209-4cd7-acfb-b8966e5d1539",
   "metadata": {},
   "source": [
    "Ans.\n",
    "- run(): This method is the entry point of thread.\n",
    "- start(): This method starts the thread by calling the run() method.\n",
    "- join(): join([time])waits for the thread to terminate.\n",
    "- isAlive(): This method checks whether the thread is still executing or not."
   ]
  },
  {
   "cell_type": "markdown",
   "id": "4c42fea6-143c-40a0-86ed-56bcaf677af6",
   "metadata": {},
   "source": [
    "Q4. Write a python program to create two threads. Thread one must print the list of squares and thread\n",
    "two must print the list of cubes."
   ]
  },
  {
   "cell_type": "code",
   "execution_count": 1,
   "id": "07c7a648-b8da-486b-8bf1-9671232835d6",
   "metadata": {},
   "outputs": [
    {
     "name": "stdout",
     "output_type": "stream",
     "text": [
      "Square of given list is: [1, 4, 9, 16, 25, 36, 49, 64, 81, 100]\n",
      "Cubes of given list is: [1, 8, 27, 64, 125, 216, 343, 512, 729, 1000]\n"
     ]
    }
   ],
   "source": [
    "import threading\n",
    "import time\n",
    "lst = [1,2,3,4,5,6,7,8,9,10]\n",
    "l = len(lst)\n",
    "square = []\n",
    "cube =[]\n",
    "def square_lst(id):\n",
    "    square.append (id* id)\n",
    "    if len(square)==l:\n",
    "        print(\"Square of given list is:\", square)\n",
    "def cube_lst(id):\n",
    "    cube.append(id*id*id)\n",
    "    if len(cube)==l:\n",
    "        print(\"Cubes of given list is:\", cube)\n",
    "\n",
    "sq_th=[threading.Thread(target = square_lst, args = (lst[i], )) for i in range(l)]\n",
    "cube_th=[threading.Thread(target = cube_lst, args = (lst[i], )) for i in range(l)]\n",
    "\n",
    "for t1 in sq_th:\n",
    "    t1.start()\n",
    "for t2 in cube_th:\n",
    "    t2.start()"
   ]
  },
  {
   "cell_type": "markdown",
   "id": "62bd3c96-589d-4774-808c-fda962bfcd9b",
   "metadata": {},
   "source": [
    "Q5. State advantages and disadvantages of multithreading."
   ]
  },
  {
   "cell_type": "markdown",
   "id": "0e7b3179-3722-4677-8902-959ce239e2da",
   "metadata": {},
   "source": [
    "Ans.\n",
    "1. ADVANTAGES:\n",
    "* Due to decreased development time, performance is enhanced.\n",
    "* Simplified and streamlined program coding\n",
    "* Improvised GUI responsiveness\n",
    "* Simultaneous and parallelized occurrence of tasks\n",
    "* Better use of cache storage by utilization of resources\n",
    "* Decreased cost of maintenance\n",
    "* Better use of CPU resource\n",
    "\n",
    "2. DIS-ADVANTAGES:\n",
    "* Complex debugging and testing processes\n",
    "* Overhead switching of context\n",
    "* Increased potential for deadlock occurrence\n",
    "* Increased difficulty level in writing a program\n",
    "* Unpredictable results"
   ]
  },
  {
   "cell_type": "markdown",
   "id": "715f95c4-520b-4ed6-99a0-8ed3506906a8",
   "metadata": {},
   "source": [
    "Q6. Explain deadlocks and race conditions."
   ]
  },
  {
   "cell_type": "markdown",
   "id": "4bab66b7-fbed-49f8-8dc7-4bea02f47b1a",
   "metadata": {},
   "source": [
    "Ans. \n",
    "1. DEADLOCKS: A deadlock is a concurrency failure mode where a thread wait for a condition that never occurs. The result is that the deadlock threads are unable to progress and the program is stuck or frozen and must be terminated forcefully. Common examples of cause of deadloacks are :\n",
    "- Thread that waits for same object twice\n",
    "- Threads that wait of each other\n",
    "- Thread that fail to release resources\n",
    "2. RACE CONDITIONS: A race condition is a situation that develops when many threads share a resource or execute the same piece of code in a multithreaded context. Inappropriate handling of this might result in an unfavorable scenario where the output state depends on the threads execution order.\n",
    "3. DIFFERENCE BETWEEN DEADLOCK AND RACE CONDITION: A race condition occurs when two threads use the same variable at a given time. Deadlock exists when two threads seek one lock simultaneously."
   ]
  }
 ],
 "metadata": {
  "kernelspec": {
   "display_name": "Python 3 (ipykernel)",
   "language": "python",
   "name": "python3"
  },
  "language_info": {
   "codemirror_mode": {
    "name": "ipython",
    "version": 3
   },
   "file_extension": ".py",
   "mimetype": "text/x-python",
   "name": "python",
   "nbconvert_exporter": "python",
   "pygments_lexer": "ipython3",
   "version": "3.10.8"
  }
 },
 "nbformat": 4,
 "nbformat_minor": 5
}
