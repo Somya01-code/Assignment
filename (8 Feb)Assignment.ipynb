{
 "cells": [
  {
   "cell_type": "markdown",
   "id": "7a17100c-65f2-41c2-9d14-c60623dc08cd",
   "metadata": {},
   "source": [
    "# PYTHON ASSIGNMENT-9 (8 FEB 2023)"
   ]
  },
  {
   "cell_type": "markdown",
   "id": "952b9a64-cb27-425b-bde2-5a3224fe083d",
   "metadata": {},
   "source": [
    "Q1. What is Abstraction in OOPs? Explain with an example."
   ]
  },
  {
   "cell_type": "markdown",
   "id": "0f2e3d98-40a4-4a23-a033-de8d1727e061",
   "metadata": {},
   "source": [
    "Ans.  Abstraction is uesd to hide the internal details and showing only the basic or required data to the user.\n",
    "- For example we only know the usage of our laptop but do know the internal creation and implementation of the laptop.\n",
    "- In Python, abstraction is achieved using abstract classes. An abstract class is the blueprint that can be used by other sub classes to implement basic functionalities.\n",
    "- eg:"
   ]
  },
  {
   "cell_type": "code",
   "execution_count": 1,
   "id": "7d5db725-7cd8-43f5-a539-80d2c074424c",
   "metadata": {},
   "outputs": [],
   "source": [
    "import abc\n",
    "\n",
    "class phone:\n",
    "    @abc.abstractmethod\n",
    "    def phone_type(self):\n",
    "        pass\n",
    "    \n",
    "    @abc.abstractmethod\n",
    "    def year(self):\n",
    "        pass\n",
    "    @abc.abstractmethod\n",
    "    def storage(self):\n",
    "        pass"
   ]
  },
  {
   "cell_type": "code",
   "execution_count": 2,
   "id": "9054be86-f141-48d4-a721-d3e21ccdcc6f",
   "metadata": {},
   "outputs": [],
   "source": [
    "class samsung_S(phone):\n",
    "    def phone_type(self):\n",
    "        return \"Android\"\n",
    "    def year(self):\n",
    "        return \"2022\"\n",
    "    def storage(self):\n",
    "        return \"128 GB\"\n",
    "\n",
    "class apple_I13(phone):\n",
    "    def phone_type(self):\n",
    "        return \"IOS\"\n",
    "    def year(self):\n",
    "        return \"2021\"\n",
    "    def storage(self):\n",
    "        return \"1 TB\"   "
   ]
  },
  {
   "cell_type": "code",
   "execution_count": 3,
   "id": "963415a9-835c-4b23-8bf6-19946e984988",
   "metadata": {},
   "outputs": [],
   "source": [
    "s_22= samsung_S()\n",
    "i_13= apple_I13()"
   ]
  },
  {
   "cell_type": "code",
   "execution_count": 4,
   "id": "ff9b8df4-55c1-49c8-a920-17ee1d67d875",
   "metadata": {},
   "outputs": [
    {
     "data": {
      "text/plain": [
       "'Android'"
      ]
     },
     "execution_count": 4,
     "metadata": {},
     "output_type": "execute_result"
    }
   ],
   "source": [
    "s_22.phone_type()"
   ]
  },
  {
   "cell_type": "code",
   "execution_count": 5,
   "id": "6776bb3b-983b-4a3a-8321-86875b6cb3c0",
   "metadata": {},
   "outputs": [
    {
     "data": {
      "text/plain": [
       "'IOS'"
      ]
     },
     "execution_count": 5,
     "metadata": {},
     "output_type": "execute_result"
    }
   ],
   "source": [
    "i_13.phone_type()"
   ]
  },
  {
   "cell_type": "markdown",
   "id": "86daa914-9265-435f-8915-0a6d2b46501f",
   "metadata": {},
   "source": [
    "Q2. Differentiate between Abstraction and Encapsulation. Explain with an example."
   ]
  },
  {
   "cell_type": "markdown",
   "id": "6335b97f-a021-4f0f-a70b-a82af8570f12",
   "metadata": {},
   "source": [
    "Abstraction is defined as a process of hiding the implementation details of a system from the user. It is achieved using abstract classes."
   ]
  },
  {
   "cell_type": "code",
   "execution_count": 6,
   "id": "89f0a2f0-6a40-499f-9f97-54e116fac3f5",
   "metadata": {},
   "outputs": [],
   "source": [
    "import abc\n",
    "class shape:\n",
    "    @abc.abstractmethod\n",
    "    def edges(self):\n",
    "        pass\n",
    "\n",
    "class circle(shape):\n",
    "    def edges(self):\n",
    "        return \"There are no edges in a circle\"\n",
    "    \n",
    "class triangle(shape):\n",
    "    def edges(self):\n",
    "        return \"There are 3 edges in a triangle\""
   ]
  },
  {
   "cell_type": "markdown",
   "id": "8d2cb196-5697-44d6-a071-1487364900eb",
   "metadata": {},
   "source": [
    "Encapsulation is defined as a method by which data wrapping is done into a single unit. It is used in wrapping up the data and the code acting on the data together as a single unit."
   ]
  },
  {
   "cell_type": "code",
   "execution_count": 7,
   "id": "705ff070-4478-4a91-870f-a2f8cfca9d8e",
   "metadata": {},
   "outputs": [],
   "source": [
    "class fruit:\n",
    "    def __init__(self, name,color, taste):\n",
    "        self.__name= name\n",
    "        self.__color= color\n",
    "        self.__taste= taste\n",
    "    def set_taste(self, taste):\n",
    "        self.__taste = taste\n",
    "        \n",
    "    def get_details(self):\n",
    "        return self.__name, self.__color, self.__taste"
   ]
  },
  {
   "cell_type": "code",
   "execution_count": 8,
   "id": "edeb4833-8f23-4913-8bc0-b69434413d5d",
   "metadata": {},
   "outputs": [],
   "source": [
    "o = fruit(\"orange\",\"orange\", \"sweet and sour\")\n",
    "b = fruit(\"banana\",\"yellow\",\"sweet\")"
   ]
  },
  {
   "cell_type": "code",
   "execution_count": 9,
   "id": "30575e01-b0e9-47fd-ae58-4f311ae9a76f",
   "metadata": {},
   "outputs": [],
   "source": [
    "o.set_taste(\"sweet\")"
   ]
  },
  {
   "cell_type": "code",
   "execution_count": 10,
   "id": "b7ab2769-91cf-4ca3-adc3-8309a6acf0ee",
   "metadata": {},
   "outputs": [
    {
     "data": {
      "text/plain": [
       "('orange', 'orange', 'sweet')"
      ]
     },
     "execution_count": 10,
     "metadata": {},
     "output_type": "execute_result"
    }
   ],
   "source": [
    "o.get_details()"
   ]
  },
  {
   "cell_type": "markdown",
   "id": "5558484d-bedd-47b0-9736-114662983d1e",
   "metadata": {},
   "source": [
    "Q3. What is abc module in python? Why is it used?"
   ]
  },
  {
   "cell_type": "markdown",
   "id": "d4f9f806-8f8d-4432-9640-c32e97859cea",
   "metadata": {},
   "source": [
    "- \"abc\" refers to Abstract Base Class. It aims at ensuring that an object follows the standardized set of specifications.\n",
    "- Using an abstract class a class can derive entity from other class without any object inheritance.\n",
    "- A class is called an Abstract class if it contains one or more abstract methods. An abstract method is a method that is declared, but contains no implementation. Abstract classes may not be instantiated, and its abstract methods must be implemented by its subclasses.\n",
    "- There are many built-in ABCs in Python. ABCs for Data structures like Iterator, Generator, Set, mapping etc. are defined in collections.abc module.\n",
    "- 'abc' works by marking methods of the base class as abstract. This is done by @absttractmethod decorator.\n",
    "\n"
   ]
  },
  {
   "cell_type": "markdown",
   "id": "03da6852-f6d4-4470-ad01-c555c27d370c",
   "metadata": {},
   "source": [
    "Q4. How can we achieve data abstraction?"
   ]
  },
  {
   "cell_type": "markdown",
   "id": "4dad0ad5-7cfe-476c-8857-b4a0e7bf93ae",
   "metadata": {},
   "source": [
    "Ans.\n",
    "- Abstraction in Python can be achieved by creating abstract classes and interfaces and then inheriting them.\n",
    "- An abstract class contains one or more abstract methods that contain no implemetation.\n",
    "- Their definition is given in the sub classes that inherit it.\n",
    "- An abstract class provides a standalone interface for different implementation of functions.\n",
    "- abc module is used to creat abstract classes.\n",
    "- eg:"
   ]
  },
  {
   "cell_type": "code",
   "execution_count": 11,
   "id": "996f9b41-bcda-4fa6-b49c-4d18e2c23fae",
   "metadata": {},
   "outputs": [],
   "source": [
    "import abc\n",
    "\n",
    "class person:\n",
    "    @abc.abstractmethod\n",
    "    def height(self):\n",
    "        pass\n",
    "    def weight(self):\n",
    "        pass"
   ]
  },
  {
   "cell_type": "code",
   "execution_count": 12,
   "id": "a1112d92-9640-4fc2-ada1-bba515324ebf",
   "metadata": {},
   "outputs": [],
   "source": [
    "class male(person):\n",
    "    def __init__(self, name, age):\n",
    "        self.name= name\n",
    "        self.age= age\n",
    "    def height(self):\n",
    "        return (\"Your average height may be 180cms.\")\n",
    "    def weight(self):\n",
    "        return(\"Your average weight must be 75 kgs\")\n",
    "\n",
    "class female(person):\n",
    "    def __init__(self, name, age):\n",
    "        self.name= name\n",
    "        self.age= age\n",
    "    def height(self):\n",
    "        return (\"Your average height may be 160cms.\")\n",
    "    def weight(self):\n",
    "        return(\"Your average weight must be 60 kgs\")\n",
    "        \n",
    "    "
   ]
  },
  {
   "cell_type": "markdown",
   "id": "5cdd7bc2-7dd7-4806-9db6-db389283a2f3",
   "metadata": {},
   "source": [
    "Q5. Can we create an instance of an abstract class? Explain your answer."
   ]
  },
  {
   "cell_type": "markdown",
   "id": "307411e1-b4d1-48fc-9c71-18e564cf491e",
   "metadata": {},
   "source": [
    "Ans. No, we can create an instance of abstract class in python because the methods of abstract class are incomplete or not defined. If we create any such instance error is thrown."
   ]
  },
  {
   "cell_type": "code",
   "execution_count": null,
   "id": "325600bb-4270-412d-8d4c-1fe298dbacc8",
   "metadata": {},
   "outputs": [],
   "source": []
  }
 ],
 "metadata": {
  "kernelspec": {
   "display_name": "Python 3 (ipykernel)",
   "language": "python",
   "name": "python3"
  },
  "language_info": {
   "codemirror_mode": {
    "name": "ipython",
    "version": 3
   },
   "file_extension": ".py",
   "mimetype": "text/x-python",
   "name": "python",
   "nbconvert_exporter": "python",
   "pygments_lexer": "ipython3",
   "version": "3.10.8"
  }
 },
 "nbformat": 4,
 "nbformat_minor": 5
}
