{
 "cells": [
  {
   "cell_type": "markdown",
   "id": "1536658b-8918-4565-8d35-8c4889dec4ae",
   "metadata": {},
   "source": [
    "# PYTHON ASSIGNMENT-10 (9 FEB 2023)"
   ]
  },
  {
   "cell_type": "markdown",
   "id": "12f40dea-216c-4f84-a3d0-b190ea8ab41f",
   "metadata": {},
   "source": [
    "Q1. Create a vehicle class with an init method having instance variables as name_of_vehicle, max_speed\n",
    "and average_of_vehicle."
   ]
  },
  {
   "cell_type": "code",
   "execution_count": 1,
   "id": "9224154e-dc8b-4c0a-8031-59b83c67978e",
   "metadata": {},
   "outputs": [],
   "source": [
    "class Vehicle:\n",
    "    \n",
    "    def __init__(self,name_of_vehicle, max_speed, average_of_vehicle ):\n",
    "        self.name_of_vehicle = name_of_vehicle\n",
    "        self.max_speed = max_speed\n",
    "        self.average_of_vehicle = average_of_vehicle"
   ]
  },
  {
   "cell_type": "markdown",
   "id": "9999367f-a49a-4665-9b9c-bc9f6df53f1e",
   "metadata": {},
   "source": [
    "Q2. Create a child class car from the vehicle class created in Que 1, which will inherit the vehicle class.\n",
    "Create a method named seating_capacity which takes capacity as an argument and returns the name of\n",
    "the vehicle and its seating capacity."
   ]
  },
  {
   "cell_type": "code",
   "execution_count": 2,
   "id": "55a47cce-5f08-4990-9387-421ba75d6e49",
   "metadata": {},
   "outputs": [],
   "source": [
    "class Car(Vehicle):\n",
    "    def __init__(self,name_of_vehicle, max_speed, average_of_vehicle):\n",
    "        super().__init__(name_of_vehicle, max_speed, average_of_vehicle)\n",
    "        \n",
    "    def seating_capacity(self, capacity):\n",
    "        return capacity, self.name_of_vehicle"
   ]
  },
  {
   "cell_type": "code",
   "execution_count": 3,
   "id": "c1a67306-c466-4f48-9f0c-b7bf9ccfc537",
   "metadata": {},
   "outputs": [],
   "source": [
    "c= Car('Maruti',250,1)"
   ]
  },
  {
   "cell_type": "code",
   "execution_count": 4,
   "id": "56713994-3bec-494c-9476-05a788716fe0",
   "metadata": {},
   "outputs": [
    {
     "data": {
      "text/plain": [
       "(5, 'Maruti')"
      ]
     },
     "execution_count": 4,
     "metadata": {},
     "output_type": "execute_result"
    }
   ],
   "source": [
    "c.seating_capacity(5)"
   ]
  },
  {
   "cell_type": "markdown",
   "id": "54b3736c-064f-4913-99c3-9ca59252d374",
   "metadata": {},
   "source": [
    "Q3. What is multiple inheritance? Write a python code to demonstrate multiple inheritance."
   ]
  },
  {
   "cell_type": "markdown",
   "id": "a76064ed-1ad6-4c20-aa97-8ba975cef0bb",
   "metadata": {},
   "source": [
    "Ans. The flexibility of the derived class to inherit the properties of base class is known as multiple inheritance.\n",
    "- eg:"
   ]
  },
  {
   "cell_type": "code",
   "execution_count": 5,
   "id": "6b4a3fe6-44b4-41d8-8210-77efa0966124",
   "metadata": {},
   "outputs": [],
   "source": [
    "class Addition:\n",
    "    def cal1(self,a,b):\n",
    "        return a+b\n",
    "    \n",
    "class Subtraction:\n",
    "    def cal2(self,a,b):\n",
    "        return a-b\n",
    "\n",
    "class Multiplication:\n",
    "    def cal3(self,a,b):\n",
    "        return a*b\n",
    "\n",
    "class Divide:\n",
    "    def cal4(self,a,b):\n",
    "        return a/b"
   ]
  },
  {
   "cell_type": "code",
   "execution_count": 6,
   "id": "906a1d19-090d-41a5-9813-b6034af3bfcc",
   "metadata": {},
   "outputs": [],
   "source": [
    "class Calculator(Addition, Subtraction, Multiplication, Divide):\n",
    "    pass"
   ]
  },
  {
   "cell_type": "code",
   "execution_count": 7,
   "id": "19c99a9d-a1d8-4d99-a57e-867e744e5a66",
   "metadata": {},
   "outputs": [],
   "source": [
    "Calc = Calculator()"
   ]
  },
  {
   "cell_type": "code",
   "execution_count": 8,
   "id": "b41f09ed-8688-419b-b2a8-dae8e076e479",
   "metadata": {},
   "outputs": [
    {
     "name": "stdout",
     "output_type": "stream",
     "text": [
      "30\n",
      "10\n",
      "200\n",
      "2.0\n"
     ]
    }
   ],
   "source": [
    "print(Calc.cal1(20,10))\n",
    "print(Calc.cal2(20,10))\n",
    "print(Calc.cal3(20,10))\n",
    "print(Calc.cal4(20,10))"
   ]
  },
  {
   "cell_type": "markdown",
   "id": "165d2e74-0dff-4b3c-8e55-09bd6f58af95",
   "metadata": {},
   "source": [
    "Q5.What is method overriding in python? Write a python code to demonstrate method overriding."
   ]
  },
  {
   "cell_type": "markdown",
   "id": "64456e51-efd1-4afb-968f-4a16517578b3",
   "metadata": {},
   "source": [
    "Ans.\n",
    "- The object oriented programming language provides the facility to the child class to customize the implementation of method that is already supplied by the superclass.\n",
    "- The term \"override\" refers to a method in a subclass that replaces a method in a superclass when both methods share the same name, parameters, signature, and return type (or sub-type).\n",
    "- eg:\n"
   ]
  },
  {
   "cell_type": "code",
   "execution_count": 9,
   "id": "943ad6fa-222b-42c6-8f49-272b79e4ab06",
   "metadata": {},
   "outputs": [],
   "source": [
    "class Employee:\n",
    "    \n",
    "    def __init__(self, name, empcode):\n",
    "        self.name = name\n",
    "        self.empcode =  empcode\n",
    "    def show(self):\n",
    "        print(\"Employee Name:\",self.name)\n",
    "        print(\"Employee Code:\", self.empcode)\n",
    "        \n",
    "class Engineer(Employee):\n",
    "    \n",
    "    def __init__(self, deptname, deptcode):\n",
    "        self.deptname= deptname\n",
    "        self.deptcode= deptcode\n",
    "    def show(self):\n",
    "        print(\"Department name:\",self.deptname)\n",
    "        print(\"Department Code:\", self.deptcode)\n",
    "        "
   ]
  },
  {
   "cell_type": "code",
   "execution_count": 10,
   "id": "aae92fd8-6acd-46f1-9e06-5b06e6f6fbdf",
   "metadata": {},
   "outputs": [],
   "source": [
    "emp = Employee(\"Somya\",101)\n",
    "eng = Engineer(\"Development\",\"DEV501\")"
   ]
  },
  {
   "cell_type": "code",
   "execution_count": 11,
   "id": "eadfa5d8-6475-49ae-b46b-b51ec92ac996",
   "metadata": {},
   "outputs": [
    {
     "name": "stdout",
     "output_type": "stream",
     "text": [
      "Employee Name: Somya\n",
      "Employee Code: 101\n"
     ]
    }
   ],
   "source": [
    "emp.show()"
   ]
  },
  {
   "cell_type": "code",
   "execution_count": 12,
   "id": "7873a1cd-7898-4ff7-8e0a-c453da5104ef",
   "metadata": {},
   "outputs": [
    {
     "name": "stdout",
     "output_type": "stream",
     "text": [
      "Department name: Development\n",
      "Department Code: DEV501\n"
     ]
    }
   ],
   "source": [
    "eng.show()"
   ]
  },
  {
   "cell_type": "code",
   "execution_count": 13,
   "id": "bca322db-8139-4e29-bdbc-4695e31aaa40",
   "metadata": {},
   "outputs": [],
   "source": [
    "# here show method is overriden in child class Engineer"
   ]
  },
  {
   "cell_type": "markdown",
   "id": "e43b6dd1-dbba-42b5-a288-76c40daff34d",
   "metadata": {},
   "source": [
    "Q4. What are getter and setter in python? Create a class and create a getter and a setter method in this\n",
    "class."
   ]
  },
  {
   "cell_type": "markdown",
   "id": "cd9cd812-e432-4c98-a6f4-9eacee53e36a",
   "metadata": {},
   "source": [
    "Ans.\n",
    "- In OOPs concept, Getters and setters are used to retrieve and update data respectively.\n",
    "- A getter retrieves an object's current attribute value, the setter is a method that is used to set the property's value. It is very useful in object-oriented programming to set the value of private attributes in a class."
   ]
  },
  {
   "cell_type": "code",
   "execution_count": 14,
   "id": "3b8a09c9-eac6-497a-9ba7-179639f3b3ec",
   "metadata": {},
   "outputs": [],
   "source": [
    "class Product:\n",
    "    \n",
    "    def __init__(self, productName, price):\n",
    "        self.productName = productName\n",
    "        self.__price = price\n",
    "        \n",
    "    @property\n",
    "    def price_access(self):\n",
    "        return self.__price\n",
    "    \n",
    "    @price_access.setter\n",
    "    def set_price(self, amount):\n",
    "        self.__price = amount\n",
    "    \n",
    "        "
   ]
  },
  {
   "cell_type": "code",
   "execution_count": 15,
   "id": "82d813a2-9cab-49f3-8c2d-e004b55a40b2",
   "metadata": {},
   "outputs": [],
   "source": [
    "p = Product(\"Product1\", 5000)"
   ]
  },
  {
   "cell_type": "code",
   "execution_count": 16,
   "id": "d8e43453-fdc8-44fb-8d17-d796579d1354",
   "metadata": {},
   "outputs": [
    {
     "data": {
      "text/plain": [
       "5000"
      ]
     },
     "execution_count": 16,
     "metadata": {},
     "output_type": "execute_result"
    }
   ],
   "source": [
    "p.price_access"
   ]
  },
  {
   "cell_type": "code",
   "execution_count": 17,
   "id": "d21c77b8-7ae5-420a-8702-991d6069a375",
   "metadata": {},
   "outputs": [],
   "source": [
    "p.set_price = 10000"
   ]
  },
  {
   "cell_type": "code",
   "execution_count": 18,
   "id": "e1ac2df2-985d-4c68-823e-aec37fb52021",
   "metadata": {},
   "outputs": [
    {
     "data": {
      "text/plain": [
       "10000"
      ]
     },
     "execution_count": 18,
     "metadata": {},
     "output_type": "execute_result"
    }
   ],
   "source": [
    "p.price_access"
   ]
  },
  {
   "cell_type": "markdown",
   "id": "bae6c21e-1997-4f42-823a-1cb3fe154aef",
   "metadata": {},
   "source": [
    "Q5. What is method overriding in python? Write a python code to demonstrate method overriding."
   ]
  },
  {
   "cell_type": "markdown",
   "id": "7fe09c15-575a-498d-8aab-d21b69cc329c",
   "metadata": {},
   "source": [
    "Ans. OOPs concept allows the derived class to customize the the methods that are already present in the base class. This capability is known as method overriding."
   ]
  },
  {
   "cell_type": "code",
   "execution_count": 19,
   "id": "0bad192a-55a3-4956-bf82-7bb5ea0bbf28",
   "metadata": {},
   "outputs": [],
   "source": [
    "class Parent:\n",
    "    \n",
    "    def show(self):\n",
    "        print(\"Displaying from parent class.\")\n",
    "        \n",
    "class Child(Parent):\n",
    "    def show(self):\n",
    "        # Parent.show(self)\n",
    "        print(\"Displaying from child class.\")\n",
    "\n"
   ]
  },
  {
   "cell_type": "code",
   "execution_count": 20,
   "id": "5d5ef3b3-4e18-4fd4-bfcf-e64a6084daba",
   "metadata": {},
   "outputs": [],
   "source": [
    "child_obj = Child()"
   ]
  },
  {
   "cell_type": "code",
   "execution_count": 21,
   "id": "af5ea15e-10e5-451f-9286-a826c9d74f1c",
   "metadata": {},
   "outputs": [
    {
     "name": "stdout",
     "output_type": "stream",
     "text": [
      "Displaying from child class.\n"
     ]
    }
   ],
   "source": [
    "child_obj.show()"
   ]
  }
 ],
 "metadata": {
  "kernelspec": {
   "display_name": "Python 3 (ipykernel)",
   "language": "python",
   "name": "python3"
  },
  "language_info": {
   "codemirror_mode": {
    "name": "ipython",
    "version": 3
   },
   "file_extension": ".py",
   "mimetype": "text/x-python",
   "name": "python",
   "nbconvert_exporter": "python",
   "pygments_lexer": "ipython3",
   "version": "3.10.8"
  }
 },
 "nbformat": 4,
 "nbformat_minor": 5
}
