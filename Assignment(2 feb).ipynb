{
 "cells": [
  {
   "cell_type": "markdown",
   "id": "9660a4bf-cf41-4736-b0aa-ac3000af829d",
   "metadata": {},
   "source": [
    "# PYTHON ASSIGNMENT-3 (2 Feb 2023)"
   ]
  },
  {
   "cell_type": "markdown",
   "id": "2c4c2313-5574-47d1-82a4-7db8b803b804",
   "metadata": {},
   "source": [
    "Q.1 Explain with an example each when to use a for loop and a while loop"
   ]
  },
  {
   "cell_type": "markdown",
   "id": "266a92c4-3120-49fc-9864-25eb55d699d9",
   "metadata": {},
   "source": [
    "The for loop is used when we already know the number of iterations, which means when we know how many times a statement has to be executed. That is why we have to specify the ending point in the for loop initialization.\n",
    "\n",
    "When we need to end the loop on a condition other than the number of times, we use a while loop. In this case, it is not necessary to know the condition beforehand. That is why we can give a boolean expression in the initialization of the loop."
   ]
  },
  {
   "cell_type": "markdown",
   "id": "444aada5-68ab-4c7b-ba0a-0ae952a63710",
   "metadata": {},
   "source": [
    "Q2. Write a python program to print the sum and product of the first 10 natural numbers using for and while loop."
   ]
  },
  {
   "cell_type": "code",
   "execution_count": 1,
   "id": "f6dd2301-5026-49ed-9ebc-b68a4eebe888",
   "metadata": {},
   "outputs": [
    {
     "name": "stdout",
     "output_type": "stream",
     "text": [
      "Sum of first 10 natural numbers using for loop: 55\n",
      "Product of first 10 natural numbers using for loop: 3628800\n"
     ]
    }
   ],
   "source": [
    "# using for loop\n",
    "sumFor=0\n",
    "productFor=1\n",
    "for i in range(1,11):\n",
    "    sumFor+=i\n",
    "    productFor*=i\n",
    "print(\"Sum of first 10 natural numbers using for loop:\", sumFor)\n",
    "print(\"Product of first 10 natural numbers using for loop:\", productFor)"
   ]
  },
  {
   "cell_type": "code",
   "execution_count": 2,
   "id": "02de2f74-bbfc-476d-b23c-6af10dd4eeb8",
   "metadata": {},
   "outputs": [
    {
     "name": "stdout",
     "output_type": "stream",
     "text": [
      "Sum of first 10 natural numbers using while loop: 55\n",
      "Product of first 10 natural numbers using while loop: 3628800\n"
     ]
    }
   ],
   "source": [
    "# using while loop\n",
    "sumWhile=0\n",
    "productWhile=1\n",
    "i=1\n",
    "while i<=10:\n",
    "    sumWhile+=i\n",
    "    productWhile*=i\n",
    "    i+=1\n",
    "print(\"Sum of first 10 natural numbers using while loop:\", sumWhile)\n",
    "print(\"Product of first 10 natural numbers using while loop:\", productWhile)"
   ]
  },
  {
   "cell_type": "markdown",
   "id": "971d2b50-4b5d-4054-8625-bb9b6fe82d64",
   "metadata": {},
   "source": [
    "Q3. Create a python program to compute the electricity bill for a household.\n",
    "\n",
    "The per-unit charges in rupees are as follows: For the first 100 units, the user will be charged Rs. 4.5 per\n",
    "unit, for the next 100 units, the user will be charged Rs. 6 per unit, and for the next 100 units, the user will\n",
    "be charged Rs. 10 per unit, After 300 units and above the user will be charged Rs. 20 per unit."
   ]
  },
  {
   "cell_type": "code",
   "execution_count": 3,
   "id": "cbe5a038-c5b8-4552-a830-c414ff722a82",
   "metadata": {},
   "outputs": [
    {
     "name": "stdin",
     "output_type": "stream",
     "text": [
      "Enter the units of electricity consumed: 310\n"
     ]
    },
    {
     "name": "stdout",
     "output_type": "stream",
     "text": [
      "The Electricity bill for 310 consumed units is Rs. 2250.0.\n"
     ]
    }
   ],
   "source": [
    "units=int(input(\"Enter the units of electricity consumed:\"))\n",
    "if units<=100:\n",
    "    charges= units*4.5\n",
    "elif units>100 and units<=200:\n",
    "    charges= (100*4.5)+(units-100)*6\n",
    "elif units>200 and units<=300:\n",
    "    charges= (100*4.5)+ (100*6)+ (units-200)*10\n",
    "else:\n",
    "    charges= (100*4.5)+ (100*6)+(100*10)+ (units-300)*20\n",
    "print(\"The Electricity bill for {unit} consumed units is Rs. {charge}.\".format(unit=units, charge=charges))"
   ]
  },
  {
   "cell_type": "markdown",
   "id": "7dd121bd-b53b-4565-b424-d310ac6b934e",
   "metadata": {},
   "source": [
    "Q4. Create a list of numbers from 1 to 100. Use for loop and while loop to calculate the cube of each\n",
    "number and if the cube of that number is divisible by 4 or 5 then append that number in a list and print\n",
    "that list."
   ]
  },
  {
   "cell_type": "code",
   "execution_count": 4,
   "id": "5fd12ef1-49a2-4065-84e5-0364bd6fb600",
   "metadata": {},
   "outputs": [
    {
     "name": "stdout",
     "output_type": "stream",
     "text": [
      "[0, 2, 4, 5, 6, 8, 10, 12, 14, 15, 16, 18, 20, 22, 24, 25, 26, 28, 30, 32, 34, 35, 36, 38, 40, 42, 44, 45, 46, 48, 50, 52, 54, 55, 56, 58, 60, 62, 64, 65, 66, 68, 70, 72, 74, 75, 76, 78, 80, 82, 84, 85, 86, 88, 90, 92, 94, 95, 96, 98, 100]\n"
     ]
    }
   ],
   "source": [
    "l=list(range(0,101))\n",
    "new_list=[]\n",
    "for i in l:\n",
    "    cube=i*i*i;\n",
    "    if cube%4==0 or cube%5==0:\n",
    "        new_list.append(i)\n",
    "print(new_list)"
   ]
  },
  {
   "cell_type": "code",
   "execution_count": 5,
   "id": "1768896a-dbe4-4155-93fe-87fb93d3cc80",
   "metadata": {},
   "outputs": [
    {
     "name": "stdout",
     "output_type": "stream",
     "text": [
      "[0, 2, 4, 5, 6, 8, 10, 12, 14, 15, 16, 18, 20, 22, 24, 25, 26, 28, 30, 32, 34, 35, 36, 38, 40, 42, 44, 45, 46, 48, 50, 52, 54, 55, 56, 58, 60, 62, 64, 65, 66, 68, 70, 72, 74, 75, 76, 78, 80, 82, 84, 85, 86, 88, 90, 92, 94, 95, 96, 98, 100]\n"
     ]
    }
   ],
   "source": [
    "l=list(range(0,101))\n",
    "new_list=[]\n",
    "length=len(l)\n",
    "i=0\n",
    "while i<length:\n",
    "    cube=l[i]**3\n",
    "    if cube%4==0 or cube%5==0:\n",
    "        new_list.append(i)\n",
    "    i+=1\n",
    "print(new_list)"
   ]
  },
  {
   "cell_type": "markdown",
   "id": "2ff1ef56-9041-4b14-aa76-74fe6df925e7",
   "metadata": {},
   "source": [
    "Q5. Write a program to filter count vowels in the below-given string.\n",
    "string = \"I want to become a data scientist\""
   ]
  },
  {
   "cell_type": "code",
   "execution_count": 6,
   "id": "45ca8168-79df-4666-b77c-7b935e04e58e",
   "metadata": {},
   "outputs": [
    {
     "name": "stdout",
     "output_type": "stream",
     "text": [
      "I a o e o e a a a i e i Total number of vowels are: 12\n"
     ]
    }
   ],
   "source": [
    "string = \"I want to become a data scientist\"\n",
    "count=0\n",
    "l=[]\n",
    "vowel=(\"aeiouAEIOU\")\n",
    "for i in string:\n",
    "     if i in vowel:\n",
    "            count = count + 1\n",
    "            print(i, end=\" \")\n",
    "print(\"Total number of vowels are:\",count)"
   ]
  },
  {
   "cell_type": "code",
   "execution_count": null,
   "id": "eb0e2965-c146-4bfb-a490-5d6e6562ac6e",
   "metadata": {},
   "outputs": [],
   "source": []
  }
 ],
 "metadata": {
  "kernelspec": {
   "display_name": "Python 3 (ipykernel)",
   "language": "python",
   "name": "python3"
  },
  "language_info": {
   "codemirror_mode": {
    "name": "ipython",
    "version": 3
   },
   "file_extension": ".py",
   "mimetype": "text/x-python",
   "name": "python",
   "nbconvert_exporter": "python",
   "pygments_lexer": "ipython3",
   "version": "3.10.8"
  }
 },
 "nbformat": 4,
 "nbformat_minor": 5
}
