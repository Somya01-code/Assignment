{
 "cells": [
  {
   "cell_type": "markdown",
   "id": "0ce34785-2e7b-4fd5-88ef-182932ca6b00",
   "metadata": {},
   "source": [
    "# PYTHON ASSIGNMENT-1 (29 JAN 2023)"
   ]
  },
  {
   "cell_type": "markdown",
   "id": "a03a2f82-0b9e-4d0b-bef2-cdafc051d67e",
   "metadata": {},
   "source": [
    "BY SOMYA AGARWAL"
   ]
  },
  {
   "cell_type": "markdown",
   "id": "6123c267-8c76-4cc7-8c1a-a043601f4364",
   "metadata": {},
   "source": [
    "Q1. Who developed python prgramming language?\n",
    "\n",
    "Ans. Python implementation was started in 1989 by Guido Van Rossum in Netherland. It's first labelled version (0.9.0) was published in 1991 by him in alt.sources.\n",
    "He named the language on the basis of BBC comedy series \"Monty Python's Flying Circus\" to keep it unque, sort and little-bit mysterious.\n",
    "Now a days, Python 3 is used and the latest verion is Python 3.11.2 . "
   ]
  },
  {
   "cell_type": "markdown",
   "id": "58dbe9c8-e66d-4025-a9ba-2bf79d3a8a8a",
   "metadata": {},
   "source": [
    "Q2. Which type of programming does Python support?\n",
    "\n",
    "Ans. Python is a dynamically typed programming language. That means, it is an interpreted, interactive, object oriented programming language. Other than this, it supports other programming paradigms such as procedural and functional programming."
   ]
  },
  {
   "cell_type": "markdown",
   "id": "5dad5739-396c-4c9c-84bd-112bb5197ec9",
   "metadata": {},
   "source": [
    "Q3. Is python case-sensitive when dealing with identifiers?\n",
    "\n",
    "Ans. \n",
    "- Identifier is a name given to varialbe function, and other objects.\n",
    "- Yes, python is a case sensitive language. It treats uppercase and lowercase identifiers differently. This can be seen through below example:"
   ]
  },
  {
   "cell_type": "code",
   "execution_count": 1,
   "id": "73b988b1-71de-4977-85fb-e4f7a5d1fab8",
   "metadata": {},
   "outputs": [
    {
     "name": "stdout",
     "output_type": "stream",
     "text": [
      "Somya\n",
      "Somya agarwal\n"
     ]
    }
   ],
   "source": [
    "name=\"Somya\"\n",
    "Name=\"Somya agarwal\"\n",
    "print(name)\n",
    "print(Name)"
   ]
  },
  {
   "cell_type": "markdown",
   "id": "227b8ad1-f815-436a-8025-036cbbd2c7cb",
   "metadata": {},
   "source": [
    "Therefore, we can see that \"name\" and \"Name\" are treated differently because of letter \"n\" and \"N\" which are in different case."
   ]
  },
  {
   "cell_type": "markdown",
   "id": "5555652e-9656-4451-a4ff-c6f88c26c382",
   "metadata": {},
   "source": [
    "Q4. What is the correct extension for a Python file?\n",
    "\n",
    "Ans. \n",
    ".py : It is standard file extension  for python source code files that contain code which can be executed by the Python interpreter.\n",
    "eg: \"PythonFile.py\"\n",
    "\n",
    "Other extensions supported by python are .pyc, .pyo, and .pyd.\n"
   ]
  },
  {
   "cell_type": "markdown",
   "id": "8d8f7c9c-9710-438a-bda3-7b9217bc8280",
   "metadata": {},
   "source": [
    "Q5. Is the python code complied or interpreted?\n",
    "\n",
    "Ans.\n",
    "A compiled language is converted into machine code so that the processor can execute it.\n",
    "An interpreted language is a language in which the implementations execute instructions directly without earlier compiling a program into machine language.\n",
    "Python is both compiled as well as an interpreted language. This means when we run a python code, it is first compiled and then interpreted line by line. The compilation part is mostly hidden from the user. While running the code, Python generates a byte code internally, this byte code is then converted using a python virtual machine (p.v.m) to generate the output."
   ]
  },
  {
   "cell_type": "markdown",
   "id": "b624d19f-3a36-4c8e-a617-6f2c12c52720",
   "metadata": {},
   "source": [
    "Q6. Name a few blocks of code used to define in Python language.\n",
    "\n",
    "Ans. \n",
    "- formal parameters to functions\n",
    "- class defination\n",
    "- function definition\n",
    "- assignment expression\n",
    "- import statements\n",
    "- looping statements\n",
    "\n",
    "A scope defines the visibility of a name within a block. The scope of the block elements can be either local to it or non local. The global elements are present in entire code irrespective of the blocks."
   ]
  },
  {
   "cell_type": "markdown",
   "id": "3069b29e-ff37-4cae-80af-018da4746b6f",
   "metadata": {},
   "source": [
    "Q7. State the character to given single line comment in python.\n",
    "\n",
    "Ans.\n",
    "- '#' is used to give single line comments.\n",
    "- 'Ctrl + /' can be used in Jupyter notebook to get it.\n",
    "- eg-"
   ]
  },
  {
   "cell_type": "code",
   "execution_count": 2,
   "id": "3b83bfeb-378a-4e06-8d66-a4a5a71086d3",
   "metadata": {},
   "outputs": [],
   "source": [
    "# This is a single line comment."
   ]
  },
  {
   "cell_type": "markdown",
   "id": "11fe36c1-29c2-4508-acfd-1feeddadb2f4",
   "metadata": {},
   "source": [
    "Q8. Mention functions which can help us to find the version of python that we are working on.\n",
    "\n",
    "Ans. python_version() function is used to check the Python version in the Jupyter notebook."
   ]
  },
  {
   "cell_type": "code",
   "execution_count": 3,
   "id": "152565db-fe35-4a59-b7fd-b71952a1059e",
   "metadata": {},
   "outputs": [
    {
     "data": {
      "text/plain": [
       "'3.10.8'"
      ]
     },
     "execution_count": 3,
     "metadata": {},
     "output_type": "execute_result"
    }
   ],
   "source": [
    "from platform import python_version\n",
    "python_version()"
   ]
  },
  {
   "cell_type": "markdown",
   "id": "2bcf1e3e-5d23-4a48-9439-a3f1b685cdba",
   "metadata": {},
   "source": [
    "Q9. Python supports the creation of anonymous functions at runtime, using a construct called _____.\n",
    "\n",
    "Ans. lambda"
   ]
  },
  {
   "cell_type": "markdown",
   "id": "4636486f-743d-49c1-b888-1df41b1f95d4",
   "metadata": {},
   "source": [
    "Q10. What does pip stand for python?\n",
    "\n",
    "Ans. \n",
    "- pip, an acronmy for \"pip Install Packages\" is a standard tool for installing packages and their dependencies in a secure manner.\n",
    "- It is the most powerfl package manager for Python. (Package managers are designed to eliminate the need for manual installs and updates, thereby ensuring that a package is installed together with all the dependencies it requires to function.)"
   ]
  },
  {
   "cell_type": "markdown",
   "id": "99c2025e-395d-42fb-9f66-012b2777583e",
   "metadata": {},
   "source": [
    "Q11. Mention few inbuilt functions in Python.\n",
    "\n",
    "Ans. Some of the inbuilt functions are mentioned below:"
   ]
  },
  {
   "cell_type": "code",
   "execution_count": 4,
   "id": "58b21641-9163-49f9-9e00-d277386f95c8",
   "metadata": {},
   "outputs": [
    {
     "name": "stdout",
     "output_type": "stream",
     "text": [
      "3.605551275463989\n"
     ]
    }
   ],
   "source": [
    "# 1. abs() Returns the absolute value of a number\n",
    "\n",
    "num= 3+2j\n",
    "print(abs(num))"
   ]
  },
  {
   "cell_type": "code",
   "execution_count": 5,
   "id": "53dedaeb-2f37-4877-bf30-32f7fe84adac",
   "metadata": {},
   "outputs": [
    {
     "name": "stdout",
     "output_type": "stream",
     "text": [
      "True\n",
      "False\n"
     ]
    }
   ],
   "source": [
    "# 2. all() Returns True if all items in an iterable object are true\n",
    "\n",
    "l1= [1,2,3,4,5,6,7]\n",
    "l2= [1,3,5,7,9,8,0]\n",
    "\n",
    "print(all(l1))\n",
    "print(all(l2))"
   ]
  },
  {
   "cell_type": "code",
   "execution_count": 6,
   "id": "2a10b9ff-247d-4ca7-ba45-ae3c0de6f847",
   "metadata": {},
   "outputs": [
    {
     "name": "stdout",
     "output_type": "stream",
     "text": [
      "True\n",
      "True\n",
      "False\n"
     ]
    }
   ],
   "source": [
    "# 3. any() Returns True if any item in an iterable object is true\n",
    "\n",
    "l1= [1,2,3,4,5,6,7]\n",
    "l2= [1,3,5,7,9,8,0]\n",
    "l3= [0,0,0,0]\n",
    "print(any(l1))\n",
    "print(any(l2))\n",
    "print(any(l3))"
   ]
  },
  {
   "cell_type": "code",
   "execution_count": 7,
   "id": "cd5f6794-bec2-4670-a371-f2505fa11373",
   "metadata": {},
   "outputs": [
    {
     "data": {
      "text/plain": [
       "'0b1000000'"
      ]
     },
     "execution_count": 7,
     "metadata": {},
     "output_type": "execute_result"
    }
   ],
   "source": [
    "# 4. bin() Returns the binary version of a number\n",
    "\n",
    "bin(64)"
   ]
  },
  {
   "cell_type": "code",
   "execution_count": 8,
   "id": "86c51fa7-8120-4901-96f0-5db453b781cb",
   "metadata": {},
   "outputs": [
    {
     "name": "stdout",
     "output_type": "stream",
     "text": [
      "False\n",
      "True\n"
     ]
    }
   ],
   "source": [
    "# 5. bool() Returns the boolean value of the specified object\n",
    "l=()\n",
    "l1=(1,2,3)\n",
    "print(bool(l))\n",
    "print(bool(l1))"
   ]
  },
  {
   "cell_type": "code",
   "execution_count": 9,
   "id": "5d631185-5bc8-498b-8e64-1e95bf6fc5fc",
   "metadata": {},
   "outputs": [
    {
     "data": {
      "text/plain": [
       "'A'"
      ]
     },
     "execution_count": 9,
     "metadata": {},
     "output_type": "execute_result"
    }
   ],
   "source": [
    "# 6. chr() Returns a character from the specified Unicode code.\n",
    "\n",
    "chr(65)"
   ]
  },
  {
   "cell_type": "code",
   "execution_count": 10,
   "id": "2695185f-541f-4fec-b0f6-496fb16f5c80",
   "metadata": {},
   "outputs": [
    {
     "name": "stdout",
     "output_type": "stream",
     "text": [
      "{'course': 'Data Science Master', 'batch': 'Impact', 'trainer': 'Sudhanshu sir'}\n",
      "<class 'dict'>\n"
     ]
    }
   ],
   "source": [
    "# 7. dict() Returns a dictionary \n",
    "\n",
    "pwskills= dict(course=\"Data Science Master\", batch=\"Impact\", trainer=\"Sudhanshu sir\")\n",
    "print (pwskills)\n",
    "print(type(pwskills))"
   ]
  },
  {
   "cell_type": "code",
   "execution_count": 11,
   "id": "511b81a5-414c-43d5-a0f9-f56b268abd48",
   "metadata": {},
   "outputs": [
    {
     "name": "stdin",
     "output_type": "stream",
     "text": [
      "Enter your name: Somya\n"
     ]
    },
    {
     "name": "stdout",
     "output_type": "stream",
     "text": [
      "Entered name is :Somya\n"
     ]
    }
   ],
   "source": [
    "# 8. input() Allows user input\n",
    "\n",
    "name = input(\"Enter your name:\")\n",
    "print(\"Entered name is :\"+ name)"
   ]
  },
  {
   "cell_type": "code",
   "execution_count": 12,
   "id": "5794665d-b5eb-4a70-8f3f-77492dcb1fc4",
   "metadata": {},
   "outputs": [
    {
     "data": {
      "text/plain": [
       "10"
      ]
     },
     "execution_count": 12,
     "metadata": {},
     "output_type": "execute_result"
    }
   ],
   "source": [
    "# 9. len() Returns the length of the object\n",
    "\n",
    "s= {1,2,2,3,4,5,6,7,8,9,0,3,5,6,6}\n",
    "len(s)"
   ]
  },
  {
   "cell_type": "code",
   "execution_count": 13,
   "id": "ad671ec2-5f57-40c4-bf03-428c4497aedc",
   "metadata": {},
   "outputs": [
    {
     "data": {
      "text/plain": [
       "[1, 2, 3, 4, 5, 7, 8, 10, 11]"
      ]
     },
     "execution_count": 13,
     "metadata": {},
     "output_type": "execute_result"
    }
   ],
   "source": [
    "# 10. sorted() Returns a sorted list\n",
    "\n",
    "l= [3,2,1,5,7,4,10,8,11]\n",
    "sorted(l)"
   ]
  },
  {
   "cell_type": "markdown",
   "id": "1d1685b7-f044-46ac-9e81-4298bb2acee3",
   "metadata": {},
   "source": [
    "Q.12 What is the maximum possible length of an identifier in Python?\n",
    "\n",
    "Ans. The maximum possible length of an identifier in Python is 79 characters."
   ]
  },
  {
   "cell_type": "markdown",
   "id": "dceecb02-58f8-44a1-9df5-786b902ea4ae",
   "metadata": {},
   "source": [
    "Q.13 What are the benefits of using Python?\n",
    "\n",
    "Ans. Due to some below mentioned benefits Python is popular world wide :\n",
    "\n",
    "- Open source and large active community base \n",
    "- Versatile, Easy to read, learn and write\n",
    "- Extensive support libraries(NumPy for numerical calculations, Pandas for data analytics, etc.) \n",
    "- Versatile, Easy to read, learn and write\n",
    "- Dynamically typed language(No need to mention data type based on the value assigned, it takes data type) \n",
    "- Highly efficient, portable and interactive"
   ]
  },
  {
   "cell_type": "markdown",
   "id": "2bf86987-a8c1-4e5c-8196-a013544a7924",
   "metadata": {},
   "source": [
    "Q14. How is memory managed in Python?\n",
    "\n",
    "Ans.\n",
    "Memory is divided into two parts in Python- Stack Memory and Private heap memory. Also, everything inside Python is stored in form of objects and these objects are given a reference when we assign them.\n",
    "eg- \n",
    "x=10\n",
    "\n",
    "Stack Memory-----------------x = 458462\n",
    "\n",
    "Private heap space ---------- 10(458462)\n",
    "- Variables reside in the Stack memory while the objects are created in heap space.\n",
    "- Every object is assigned an id and object is uniquely identified by this id.\n",
    "- When we create a variable, the variable is stored in stack memory and the id of the required object is assigned to it.\n",
    "- Python memory manager is a program that alloactes the memory to an object in heap space\n",
    "- An object that has no reference for stack memory is freed using the Garbage colletor. This prevents the memory leak that is caused due to unwanted space alloacation."
   ]
  },
  {
   "cell_type": "markdown",
   "id": "67b18ddc-3507-40ab-a603-5012cfca8e66",
   "metadata": {},
   "source": [
    "Q15. How to install Python on Windows and set path variables ?\n",
    "\n",
    "Ans. \n",
    "\n",
    "\n",
    "# Installing Python from Python.org\n",
    "1. Go on Python.org to download the python executables \"https://www.python.org/dowmloads/windows/\".\n",
    "2. From the page download the required executable. For 64 bits system: \"Windowsx86-64 executable installer\".\n",
    "\n",
    "# Adding Python 3 to the Windows 10 environment variale path\n",
    "(By default, it is installed in: C:\\Users\\UserName\\AppData\\Local\\Programs\\Python)\n",
    "\n",
    "1. Move the Pyhn folder to C:/\n",
    "2. Change the name of the executable to python3.exe\n",
    "3. Now we edit the environment variables to add this new python 3 path to the path\n",
    "- search for \"Edit the system environment variables\" in search bar loacted in task bar.\n",
    "- Then \"System Properties -> Advanced -> Environment Variables\"\n",
    "- \"System Variables\" dialog box appears. Select \"Path\" and click on Edit.\n",
    "- Add 2 new variables as: \"C:\\Python38\\\" and \"C:\\Python38\\Scripts\". Then click \"OK\"\n",
    "4. To check whether Python is work fine or not, open command prompt and type \"Python 3\". The python 3 interpreter must open if the path is added successfully.\n",
    "5. Finally, upgrade pip to be able to install Python modules. To do so, run the following command in cmd: \"python3 -m install --upgrade pip\""
   ]
  },
  {
   "cell_type": "markdown",
   "id": "e86a75a9-3fe8-47a7-a1bf-30fecad9be87",
   "metadata": {},
   "source": [
    "Q16. Is indentaion required in Python?\n",
    "\n",
    "Ans. In Python, we do not have parenthesis to mark the beginning and ending of the code block like functions, classes, loops and conditionals. \n",
    "In place of parenthesis we use colon(:) followed by the indentation from the next lines of the block of code. These are 4 white spaces by default.\n",
    "If we do not use the indentation or correct indentataion in each line, the Python interpreter will not be able to understand the code lines and thus, it will throw error."
   ]
  },
  {
   "cell_type": "code",
   "execution_count": null,
   "id": "bc55fcd8-d843-4a10-8fad-885e6bd248b3",
   "metadata": {},
   "outputs": [],
   "source": []
  }
 ],
 "metadata": {
  "kernelspec": {
   "display_name": "Python 3 (ipykernel)",
   "language": "python",
   "name": "python3"
  },
  "language_info": {
   "codemirror_mode": {
    "name": "ipython",
    "version": 3
   },
   "file_extension": ".py",
   "mimetype": "text/x-python",
   "name": "python",
   "nbconvert_exporter": "python",
   "pygments_lexer": "ipython3",
   "version": "3.10.8"
  }
 },
 "nbformat": 4,
 "nbformat_minor": 5
}
