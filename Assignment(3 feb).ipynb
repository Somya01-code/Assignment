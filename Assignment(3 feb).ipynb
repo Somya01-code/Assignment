{
 "cells": [
  {
   "cell_type": "markdown",
   "id": "6fca89cd-10b7-4cad-aba8-2b49a445055d",
   "metadata": {},
   "source": [
    "# PYTHON ASSIGNMENT-4 (3 FEB 2023) "
   ]
  },
  {
   "cell_type": "markdown",
   "id": "207e7e9e-1065-4069-bd1f-92bc365010c1",
   "metadata": {},
   "source": [
    "Q1. Which keyword is used to create a function? Create a function to return a list of odd numbers in the\n",
    "range of 1 to 25."
   ]
  },
  {
   "cell_type": "markdown",
   "id": "a613df17-63ec-46fb-a370-6425a29b642f",
   "metadata": {},
   "source": [
    "Ans. 'def' keyword is used to create a function in Python. Syntax: def func_name(arguments): "
   ]
  },
  {
   "cell_type": "code",
   "execution_count": 1,
   "id": "0180cca7-7fbf-4d0f-9b6c-066fb18b5f5b",
   "metadata": {},
   "outputs": [
    {
     "name": "stdout",
     "output_type": "stream",
     "text": [
      "List of odd numbers: [1, 3, 5, 7, 9, 11, 13, 15, 17, 19, 21, 23, 25]\n"
     ]
    }
   ],
   "source": [
    "def oddNum():\n",
    "    l= list(range(1,26))\n",
    "    l1=[]\n",
    "    for i in l:\n",
    "        if i%2==1:\n",
    "            l1.append(i)\n",
    "    return l1\n",
    "print(\"List of odd numbers:\",oddNum())"
   ]
  },
  {
   "cell_type": "markdown",
   "id": "158bfc66-5baa-4e8c-bee9-3094fdaa4492",
   "metadata": {},
   "source": [
    "Q2. Why *args and **kwargs is used in some functions? Create a function each for *args and **kwargs\n",
    "to demonstrate their use."
   ]
  },
  {
   "cell_type": "markdown",
   "id": "86f157b8-50fe-4040-8507-d53eb6f4f68b",
   "metadata": {},
   "source": [
    "Ans. \n",
    "- When we do not know the number of arguments that wil be passed in the function we use *args. It is used to pass a variable number of arguments to a function. Non-keyworded, variable length argument list can be passed using *args.\n",
    "- The special syntax **kwargs in function definitions in Python is used to pass a keyworded, variable-length argument list. We use the name kwargs with the double star. The reason is that the double star allows us to pass through keyword arguments (and any number of them)."
   ]
  },
  {
   "cell_type": "code",
   "execution_count": 2,
   "id": "18bfc279-b25b-485d-8bbe-434f681148a9",
   "metadata": {},
   "outputs": [
    {
     "name": "stdout",
     "output_type": "stream",
     "text": [
      "My\n",
      "name\n",
      "is\n",
      "Somya\n"
     ]
    }
   ],
   "source": [
    "# using *args\n",
    "def test1(*args):\n",
    "    for arg in args:\n",
    "        print(arg)\n",
    "test1(\"My\",\"name\",\"is\",\"Somya\")"
   ]
  },
  {
   "cell_type": "code",
   "execution_count": 3,
   "id": "f59a4dd4-2f60-472c-8d0d-20c90ec90071",
   "metadata": {
    "tags": []
   },
   "outputs": [
    {
     "name": "stdout",
     "output_type": "stream",
     "text": [
      "name  :  Somya\n",
      "course  :  pwskills\n",
      "duration  :  7 months\n"
     ]
    }
   ],
   "source": [
    "def test2(**kwargs):\n",
    "    for k,v in kwargs.items():\n",
    "        print(k,\" : \",v)\n",
    "test2(name='Somya', course='pwskills', duration='7 months')"
   ]
  },
  {
   "cell_type": "markdown",
   "id": "ab615844-6ca0-47e8-9f3a-5e7ccd9525f2",
   "metadata": {},
   "source": [
    "Q3. What is an iterator in python? Name the method used to initialise the iterator object and the method\n",
    "used for iteration. Use these methods to print the first five elements of the given list [2, 4, 6, 8, 10, 12, 14,\n",
    "16, 18, 20]."
   ]
  },
  {
   "cell_type": "markdown",
   "id": "3cbaa749-fb25-40b2-85a5-3110a5343611",
   "metadata": {},
   "source": [
    "Iterator is an object on which we iterate upon and traverse through its values.\n",
    "- iter()- iter method is used to initialize the iterator object. It takes in an interable (like list, string, etc) as argument and converts it to string. \n",
    "- next()- it helps to iterate over an iterator and returns the next item of it. If a default is given, it is returned when the iterator is exhausted.\n",
    "- code snippet to print first five elements of given list is written below:"
   ]
  },
  {
   "cell_type": "code",
   "execution_count": 4,
   "id": "f10c3971-3af9-4549-9e8f-ef620f6d4385",
   "metadata": {},
   "outputs": [
    {
     "name": "stdout",
     "output_type": "stream",
     "text": [
      "2\n",
      "4\n",
      "6\n",
      "8\n",
      "10\n"
     ]
    }
   ],
   "source": [
    "l=[2,4,6,8,10,12,16,18,20]\n",
    "def firstFive(l):\n",
    "    n=5\n",
    "    i=0\n",
    "    while i<5:\n",
    "        yield l[i]\n",
    "        i+=1\n",
    "t1= firstFive(l)\n",
    "t1\n",
    "#  for loop itself contains the iter function\n",
    "for i in range(5):\n",
    "    print(next(t1))\n",
    "# for j in l:\n",
    "#     print(next(t1))"
   ]
  },
  {
   "cell_type": "markdown",
   "id": "9bdd9753-3a6f-49d6-b96b-2c20e1d86c7d",
   "metadata": {},
   "source": [
    "Q4. What is a generator function in python? Why yield keyword is used? Give an example of a generator function."
   ]
  },
  {
   "cell_type": "markdown",
   "id": "9ef63c12-0fea-4e33-9550-4b2047c28136",
   "metadata": {},
   "source": [
    "Ans.\n",
    "* Generator function is like a normal function starting with def keyword. The only difference is that instead of the return keyword it uses yeild keyword.\n",
    "* Python Generators are the functions that return the traversal/ generator object and used to create iterators. It traverses the entire items at once.\n",
    "\n",
    "- The yield statement is responsible for controlling the flow of the generator function. It pauses the function execution by saving all states and yielded to the caller. Later it resumes execution when a successive function is called. Unlike return statement, we can use the multiple yield statement in the generator function."
   ]
  },
  {
   "cell_type": "code",
   "execution_count": 5,
   "id": "b097258b-7c3e-42d3-97ac-695099ef454b",
   "metadata": {},
   "outputs": [
    {
     "name": "stdin",
     "output_type": "stream",
     "text": [
      "Enter the limit: 9\n"
     ]
    },
    {
     "name": "stdout",
     "output_type": "stream",
     "text": [
      "Cube of first  9  natural numbers is :\n",
      "1  8  27  64  125  216  343  512  729  "
     ]
    }
   ],
   "source": [
    "# example of generator function\n",
    "def cube(n):\n",
    "    count=1\n",
    "    while count<=n:\n",
    "        yield count**3\n",
    "        count= count+1\n",
    "num= int(input(\"Enter the limit:\"))\n",
    "c=cube(num)\n",
    "print(\"Cube of first \", num, \" natural numbers is :\")\n",
    "for i in c:\n",
    "    print(i, end=\"  \")"
   ]
  },
  {
   "cell_type": "markdown",
   "id": "f60fe949-2b41-4832-a872-e82826c7068c",
   "metadata": {},
   "source": [
    "Q5. Create a generator function for prime numbers less than 1000. Use the next() method to print the first 20 prime numbers."
   ]
  },
  {
   "cell_type": "code",
   "execution_count": 6,
   "id": "67592b65-7e98-4b36-9105-ac8dca60e19a",
   "metadata": {},
   "outputs": [
    {
     "name": "stdout",
     "output_type": "stream",
     "text": [
      "2  3  5  7  11  13  17  19  23  29  31  37  41  43  47  53  59  61  67  71  "
     ]
    }
   ],
   "source": [
    "def prime():\n",
    "    for num in range(1,1001):\n",
    "        if num>1:\n",
    "            for i in range(2,num):\n",
    "                if(num%i==0):\n",
    "                    break\n",
    "            else:\n",
    "                yield num\n",
    "c=prime()\n",
    "for i in range(0,20):\n",
    "    print(next(c), end=\"  \")"
   ]
  },
  {
   "cell_type": "markdown",
   "id": "0ccd1089-9fe1-49c2-b58c-e25c3d9baf77",
   "metadata": {},
   "source": [
    "Q6. Write a python program to print the first 10 Fibonacci numbers using a while loop."
   ]
  },
  {
   "cell_type": "code",
   "execution_count": 7,
   "id": "ce98ba79-2992-4212-93aa-7aef9e5acc22",
   "metadata": {},
   "outputs": [
    {
     "name": "stdout",
     "output_type": "stream",
     "text": [
      "0  1  1  2  3  5  8  13  21  34  "
     ]
    }
   ],
   "source": [
    "a=0\n",
    "b=1\n",
    "i=1\n",
    "while i<=10:\n",
    "    print(a,end=\"  \")\n",
    "    a,b =b, a+b\n",
    "    i+=1"
   ]
  },
  {
   "cell_type": "markdown",
   "id": "d4384276-608c-4d8d-8bab-facfad90b9bf",
   "metadata": {},
   "source": [
    "Q7. Write a List Comprehension to iterate through the given string: ‘pwskills’.\n",
    "Expected output: ['p', 'w', 's', 'k', 'i', 'l', 'l', 's']"
   ]
  },
  {
   "cell_type": "code",
   "execution_count": 8,
   "id": "2f021af4-26e0-48cd-8ba2-1f9514636365",
   "metadata": {},
   "outputs": [
    {
     "data": {
      "text/plain": [
       "['p', 'w', 's', 'k', 'i', 'l', 'l', 's']"
      ]
     },
     "execution_count": 8,
     "metadata": {},
     "output_type": "execute_result"
    }
   ],
   "source": [
    "s='pwskills'\n",
    "[i for i in s]"
   ]
  },
  {
   "cell_type": "markdown",
   "id": "20b31f9d-5cf4-4447-bc9a-c1d8ecc19043",
   "metadata": {},
   "source": [
    "Q8. Write a python program to check whether a given number is Palindrome or not using a while loop."
   ]
  },
  {
   "cell_type": "code",
   "execution_count": 9,
   "id": "374f56b1-1937-4f1f-a263-07c6026e6bb8",
   "metadata": {},
   "outputs": [
    {
     "name": "stdin",
     "output_type": "stream",
     "text": [
      "Enter a number: 1661\n"
     ]
    },
    {
     "name": "stdout",
     "output_type": "stream",
     "text": [
      "The entered number is palindrome.\n"
     ]
    }
   ],
   "source": [
    "num=int(input(\"Enter a number:\"))\n",
    "n=num\n",
    "rev=0\n",
    "while n>0:\n",
    "    mod=int(n%10)\n",
    "    rev= rev*10 + mod\n",
    "    n=n//10\n",
    "if num==rev:\n",
    "    print(\"The entered number is palindrome.\")\n",
    "else:\n",
    "    print(\"The number is not a palindrome.\")"
   ]
  },
  {
   "cell_type": "markdown",
   "id": "c16bd9a5-1fe7-4f42-adba-14e3ed8f544f",
   "metadata": {},
   "source": [
    "Q9. Write a code to print odd numbers from 1 to 100 using list comprehension.\n",
    "Note: Use a list comprehension to create a list from 1 to 100 and use another List comprehension to filter\n",
    "out odd numbers."
   ]
  },
  {
   "cell_type": "code",
   "execution_count": 10,
   "id": "9f83f88e-8a76-4808-92f7-879e909235bb",
   "metadata": {},
   "outputs": [
    {
     "name": "stdout",
     "output_type": "stream",
     "text": [
      "Odd numbers from 1 to 100:\n",
      "[1, 3, 5, 7, 9, 11, 13, 15, 17, 19, 21, 23, 25, 27, 29, 31, 33, 35, 37, 39, 41, 43, 45, 47, 49, 51, 53, 55, 57, 59, 61, 63, 65, 67, 69, 71, 73, 75, 77, 79, 81, 83, 85, 87, 89, 91, 93, 95, 97, 99] "
     ]
    }
   ],
   "source": [
    "l=[i for i in range(1,101)]\n",
    "l_odd=[i for i in l if i%2!=0]\n",
    "print(\"Odd numbers from 1 to 100:\")\n",
    "print(l_odd,end=\" \")"
   ]
  },
  {
   "cell_type": "code",
   "execution_count": null,
   "id": "5079f5fe-1cc4-4761-8811-2c08f8c6342c",
   "metadata": {},
   "outputs": [],
   "source": []
  }
 ],
 "metadata": {
  "kernelspec": {
   "display_name": "Python 3 (ipykernel)",
   "language": "python",
   "name": "python3"
  },
  "language_info": {
   "codemirror_mode": {
    "name": "ipython",
    "version": 3
   },
   "file_extension": ".py",
   "mimetype": "text/x-python",
   "name": "python",
   "nbconvert_exporter": "python",
   "pygments_lexer": "ipython3",
   "version": "3.10.8"
  }
 },
 "nbformat": 4,
 "nbformat_minor": 5
}
