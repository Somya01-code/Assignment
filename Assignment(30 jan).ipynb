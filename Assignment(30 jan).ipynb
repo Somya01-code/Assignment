{
 "cells": [
  {
   "cell_type": "markdown",
   "id": "cf4f0d51-4509-4f84-bc6e-c0e1a096113a",
   "metadata": {},
   "source": [
    "# PYTHON ASSIGNMENT-2 (30 JAN 2023)"
   ]
  },
  {
   "cell_type": "markdown",
   "id": "6292e0a8-72eb-4244-93ba-106ed3762902",
   "metadata": {},
   "source": [
    "Q1. Write a program in Python to accept percentage from the user and display the grade according to following criteria:\n"
   ]
  },
  {
   "cell_type": "code",
   "execution_count": 1,
   "id": "70b01f38-1a5c-4b13-8d74-26a76788cc29",
   "metadata": {},
   "outputs": [
    {
     "name": "stdin",
     "output_type": "stream",
     "text": [
      "Enter your marks:  90\n"
     ]
    },
    {
     "name": "stdout",
     "output_type": "stream",
     "text": [
      "Grade B\n"
     ]
    }
   ],
   "source": [
    "marks = int(input(\"Enter your marks: \"))\n",
    "if (marks>90):\n",
    "    print(\"Grade A\")\n",
    "elif marks>80 and marks <=90:\n",
    "    print(\"Grade B\")\n",
    "elif marks>=60 and marks<=80:\n",
    "    print(\"Grade C\")\n",
    "else:\n",
    "    print(\"Grade D\")\n"
   ]
  },
  {
   "cell_type": "markdown",
   "id": "85122142-ea51-4cd0-b2de-90486a6838b7",
   "metadata": {},
   "source": [
    "Q2. Write a program to accept the cost price of the bike and display the road tax to be paid according to it"
   ]
  },
  {
   "cell_type": "code",
   "execution_count": 2,
   "id": "ad2f2d19-6ee7-42d7-a05f-5cedafa7de3c",
   "metadata": {},
   "outputs": [
    {
     "name": "stdin",
     "output_type": "stream",
     "text": [
      "Enter cost price of the bike:  450000\n"
     ]
    },
    {
     "name": "stdout",
     "output_type": "stream",
     "text": [
      "Road tax to be paid: 67500.0\n"
     ]
    }
   ],
   "source": [
    "cp = float(input(\"Enter cost price of the bike: \"))\n",
    "taxPercent =0\n",
    "if (cp>100000):\n",
    "    taxPercent =15\n",
    "elif cp >50000 and cp<=100000:\n",
    "    taxPercent =10\n",
    "else:\n",
    "    taxPercent = 5\n",
    "tax= (taxPercent/100)* cp\n",
    "print(\"Road tax to be paid:\",tax)"
   ]
  },
  {
   "cell_type": "markdown",
   "id": "57efc5b7-f865-4c8b-9fdf-6f2bcac5e39a",
   "metadata": {},
   "source": [
    "Q3. Accept any city from the user and display monuments of that city"
   ]
  },
  {
   "cell_type": "code",
   "execution_count": 3,
   "id": "d4e02de6-0c05-451f-8850-9839f2f7ec23",
   "metadata": {},
   "outputs": [
    {
     "name": "stdin",
     "output_type": "stream",
     "text": [
      "Enter a city:\n",
      "1. Delhi\n",
      "2. Agra\n",
      "3. Jaipur\n",
      " Agra\n"
     ]
    },
    {
     "name": "stdout",
     "output_type": "stream",
     "text": [
      "You can visit TAJ MAHAL\n"
     ]
    }
   ],
   "source": [
    "city = input(\"Enter a city:\\n1. Delhi\\n2. Agra\\n3. Jaipur\\n\")\n",
    "if city==\"Delhi\":\n",
    "    print(\"You can visit RED FORT\")\n",
    "elif city==\"Agra\":\n",
    "    print(\"You can visit TAJ MAHAL\")\n",
    "elif city==\"Jaipur\":\n",
    "    print(\"You can visit JAL MAHAL\")\n",
    "else:\n",
    "    print(\"Try Again!!\")"
   ]
  },
  {
   "cell_type": "markdown",
   "id": "29af27eb-6e32-45b2-aaaf-e97ec6e3bcad",
   "metadata": {},
   "source": [
    "Q4. Check how many times a given number can be divided by 3 before it is less than or equal to 10."
   ]
  },
  {
   "cell_type": "code",
   "execution_count": 4,
   "id": "70232920-0daa-40ee-b51e-74bb5e479a5a",
   "metadata": {},
   "outputs": [
    {
     "name": "stdin",
     "output_type": "stream",
     "text": [
      "Enter a number: 900\n"
     ]
    },
    {
     "name": "stdout",
     "output_type": "stream",
     "text": [
      "Number of times a number can be divided by 3 to get 10 or lesser number: 5\n"
     ]
    }
   ],
   "source": [
    "num= int(input(\"Enter a number:\"))\n",
    "count=0\n",
    "while(num>10):\n",
    "    num=num/3\n",
    "    count+=1\n",
    "print(\"Number of times a number can be divided by 3 to get 10 or lesser number:\",count)"
   ]
  },
  {
   "cell_type": "markdown",
   "id": "d10bdaa8-8b41-4c7c-a39d-22ded0b681f2",
   "metadata": {},
   "source": [
    "Q5. Why and when to use while loop in pyhton? Give a detailed description with example."
   ]
  },
  {
   "cell_type": "markdown",
   "id": "0bb74ff9-c6a7-4639-8fcc-6a8c10edd1ca",
   "metadata": {},
   "source": [
    "Ans. The while loop is usually used when the number of iterations is unknown.\n",
    "In such conditions, a certain condition is checked and the loop works until the condition goes wrong.\n",
    "\n",
    "A while loop evaluates the condition, if the condition is true, the code inside the loop is executed. The condition is evaluated again. This process continues until the condition is false. When the condition evaluates to False, the loop stops.\n",
    "Example:"
   ]
  },
  {
   "cell_type": "code",
   "execution_count": 5,
   "id": "aae5c6b6-6188-47dd-8588-33e7bc8c259b",
   "metadata": {},
   "outputs": [
    {
     "name": "stdout",
     "output_type": "stream",
     "text": [
      "I am fond of Python programming language.\n",
      "I am fond of Python programming language.\n",
      "I am fond of Python programming language.\n",
      "I am fond of Python programming language.\n",
      "I am fond of Python programming language.\n",
      "I am fond of Python programming language.\n",
      "I am fond of Python programming language.\n",
      "I am fond of Python programming language.\n",
      "I am fond of Python programming language.\n",
      "I am fond of Python programming language.\n"
     ]
    }
   ],
   "source": [
    "count=0\n",
    "while count<10:\n",
    "    print(\"I am fond of Python programming language.\")\n",
    "    count+=1"
   ]
  },
  {
   "cell_type": "markdown",
   "id": "7b8c1b37-aac9-48c1-a2b2-cd5f4a861898",
   "metadata": {},
   "source": [
    "Q6. Use nested while loop to print 3 different patterns."
   ]
  },
  {
   "cell_type": "code",
   "execution_count": 6,
   "id": "358fda5b-675d-499d-9be3-e1e4290c9d35",
   "metadata": {},
   "outputs": [
    {
     "name": "stdin",
     "output_type": "stream",
     "text": [
      "Enter number of rows: 5\n"
     ]
    },
    {
     "name": "stdout",
     "output_type": "stream",
     "text": [
      "* \n",
      "* * \n",
      "* * * \n",
      "* * * * \n",
      "* * * * * \n"
     ]
    }
   ],
   "source": [
    "# *\n",
    "# * *\n",
    "# * * *\n",
    "# * * * *\n",
    "n= int(input(\"Enter number of rows:\"))\n",
    "i=1\n",
    "while i<=n:\n",
    "    j=1\n",
    "    while j<=i:\n",
    "        print(\"*\",end=\" \")\n",
    "        j+=1\n",
    "    print()\n",
    "    i+=1"
   ]
  },
  {
   "cell_type": "code",
   "execution_count": 7,
   "id": "b73e728a-9b73-4cce-ac33-f0511658c532",
   "metadata": {},
   "outputs": [
    {
     "name": "stdin",
     "output_type": "stream",
     "text": [
      "Enter number of rows: 5\n"
     ]
    },
    {
     "name": "stdout",
     "output_type": "stream",
     "text": [
      "* * * * * \n",
      "* * * * \n",
      "* * * \n",
      "* * \n",
      "* \n"
     ]
    }
   ],
   "source": [
    "# * * * *\n",
    "# * * *\n",
    "# * *\n",
    "# *\n",
    "n= int(input(\"Enter number of rows:\"))\n",
    "i=1\n",
    "while i<=n:\n",
    "    j=n\n",
    "    while j>=i:\n",
    "        print(\"*\", end =\" \")\n",
    "        j-=1\n",
    "    print()\n",
    "    i+=1"
   ]
  },
  {
   "cell_type": "code",
   "execution_count": 8,
   "id": "3a4f99d6-d3ce-4c83-9af6-24382065079d",
   "metadata": {},
   "outputs": [
    {
     "name": "stdin",
     "output_type": "stream",
     "text": [
      "Enter number of rows: 5\n"
     ]
    },
    {
     "name": "stdout",
     "output_type": "stream",
     "text": [
      "    * \n",
      "   * * \n",
      "  * * * \n",
      " * * * * \n",
      "* * * * * \n"
     ]
    }
   ],
   "source": [
    "#    *\n",
    "#   * *\n",
    "#  * * *\n",
    "# * * * *\n",
    "n= int(input(\"Enter number of rows:\"))\n",
    "i=0\n",
    "while i<n:\n",
    "    space=n-i-1\n",
    "    j=i\n",
    "    while space>0:\n",
    "        print(end=\" \")\n",
    "        space=space-1\n",
    "    star=i+1\n",
    "    while star>0:\n",
    "        print(\"*\",end=\" \")\n",
    "        star=star-1\n",
    "    i=i+1\n",
    "    print()"
   ]
  },
  {
   "cell_type": "markdown",
   "id": "199ba81d-4aea-4071-bcb1-2d41b66f215d",
   "metadata": {},
   "source": [
    "Q7. Reverse a while loop to display numbers from 10 to 1."
   ]
  },
  {
   "cell_type": "markdown",
   "id": "693c4aec-7607-4ce1-b3dc-f45297c34882",
   "metadata": {},
   "source": [
    "##### n=10\n",
    "while n>0:\n",
    "    print(n,end=\" \")\n",
    "    n-=1\n"
   ]
  },
  {
   "cell_type": "markdown",
   "id": "c2ae51eb-cef7-4d22-8138-8b93177eb842",
   "metadata": {},
   "source": [
    "Q8. Reverse a while loop to display numbers from 10 to 1."
   ]
  },
  {
   "cell_type": "code",
   "execution_count": 10,
   "id": "68119c0c-8213-4654-a04b-4825d81332ba",
   "metadata": {},
   "outputs": [
    {
     "name": "stdin",
     "output_type": "stream",
     "text": [
      "Enter a number: 10\n"
     ]
    },
    {
     "name": "stdout",
     "output_type": "stream",
     "text": [
      "10 9 8 7 6 5 4 3 2 1 "
     ]
    }
   ],
   "source": [
    "n=int(input(\"Enter a number:\"))\n",
    "while n>0:\n",
    "    print(n,end=\" \")\n",
    "    n-=1\n"
   ]
  },
  {
   "cell_type": "code",
   "execution_count": null,
   "id": "53e1d9e6-27a6-407a-bdb1-8068dfed1929",
   "metadata": {},
   "outputs": [],
   "source": []
  }
 ],
 "metadata": {
  "kernelspec": {
   "display_name": "Python 3 (ipykernel)",
   "language": "python",
   "name": "python3"
  },
  "language_info": {
   "codemirror_mode": {
    "name": "ipython",
    "version": 3
   },
   "file_extension": ".py",
   "mimetype": "text/x-python",
   "name": "python",
   "nbconvert_exporter": "python",
   "pygments_lexer": "ipython3",
   "version": "3.10.8"
  }
 },
 "nbformat": 4,
 "nbformat_minor": 5
}
