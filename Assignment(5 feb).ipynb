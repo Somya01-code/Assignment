{
 "cells": [
  {
   "cell_type": "markdown",
   "id": "a2dd0b2c-3c90-496d-bd12-a91cd2affd69",
   "metadata": {},
   "source": [
    "# PYTHON ASSIGNMENT-6 (5 FEB 2023)"
   ]
  },
  {
   "cell_type": "markdown",
   "id": "befef05b-cbe8-4e2f-8ff8-490923f11bac",
   "metadata": {},
   "source": [
    "Q1. Explain Class and Object with respect to Object-Oriented Programming. Give a suitable example."
   ]
  },
  {
   "cell_type": "markdown",
   "id": "0db18c12-848f-4c7d-b9e1-4386e974082b",
   "metadata": {},
   "source": [
    "- A class is a user defined template/ blueprint which holds variables and methods that can be accessed with the object of that class.\n",
    "- An object is an instance of class. A class needs to be instantiated if we want to use the class attributes in another class or method. A class can be instantiated by creating a class object and calling the class using the class name.\n",
    "- ex- Aclass is a prototype of a laptop. Every laptop will have features like display, storage, os, hardware, etc. Different companies can use the same prototype to create different models (objects) of the device laptop.\n",
    "- The below example shows the functionality-"
   ]
  },
  {
   "cell_type": "code",
   "execution_count": 1,
   "id": "6c42f6a1-1bea-4bf4-b142-f938b853dbf8",
   "metadata": {},
   "outputs": [],
   "source": [
    "class student:\n",
    "    def __init__(self, name, age):\n",
    "        self.name= name\n",
    "        self.age= age\n",
    "    def display(self):\n",
    "        return self.name, self.age"
   ]
  },
  {
   "cell_type": "code",
   "execution_count": 2,
   "id": "b652b5f5-99f6-4ec2-ba60-1e3b77aac7d4",
   "metadata": {},
   "outputs": [
    {
     "data": {
      "text/plain": [
       "('Somya', 21)"
      ]
     },
     "execution_count": 2,
     "metadata": {},
     "output_type": "execute_result"
    }
   ],
   "source": [
    "s= student(\"Somya\", 21)\n",
    "s.display()"
   ]
  },
  {
   "cell_type": "markdown",
   "id": "c38abdf1-7388-4b24-b461-c6ef56811653",
   "metadata": {},
   "source": [
    "Q2. Name the four pillars of OOPs."
   ]
  },
  {
   "cell_type": "markdown",
   "id": "79e61691-9d73-4961-a5b3-82664e01d8b8",
   "metadata": {},
   "source": [
    "Ans. The four pillars of Object oriented programming are as follows :\n",
    "1. Inheritance- The property of one class to derive and inherit the properties of another class. The class that derives the properties is called derived/ child class while the other is called base/ parent class.\n",
    "2. Polymorphism-  Poly means 'many' and polymorphism means 'many forms'. The ability of methods to have same name but different arguments with/ without class is known as polymorphism.\n",
    "3. Encapsulation- Wrapping up or data to prevent it from unwanted access of modification is known as encapsulation.\n",
    "4. Abstraction- Hinding the complex and sensitive part of the code from the user and only showing the necessary details is known as data abstraction."
   ]
  },
  {
   "cell_type": "markdown",
   "id": "ae4e1202-3013-45c9-894a-ea6055178c77",
   "metadata": {},
   "source": [
    "Q3. Explain why the __init__() function is used. Give a suitable example."
   ]
  },
  {
   "cell_type": "markdown",
   "id": "7dd18287-1ffd-4c66-af53-bff695e8d68e",
   "metadata": {},
   "source": [
    "Ans.\n",
    "- __init__() is a method in Python that works like the constructor.\n",
    "- It is a constructor, allowing a class to hold objects with different values.\n",
    "- We need not call it like we call a normal method. It is similar to a method inside a class. It is executed as soon as an object is created for the class.\n",
    "- eg:"
   ]
  },
  {
   "cell_type": "code",
   "execution_count": 3,
   "id": "63d3de0b-69e3-4af7-b06b-bc130cd81d5c",
   "metadata": {},
   "outputs": [],
   "source": [
    "class Student:\n",
    "    def __init__(self, name, rollno, course):\n",
    "        self.name= name\n",
    "        self.rollno= rollno\n",
    "        self.course= course\n",
    "    def display(self):\n",
    "        print(\"Name of student: \", self.name)\n",
    "        print(\"Roll Number: \", self.rollno)\n",
    "        print(\"Course: \", self.course)\n"
   ]
  },
  {
   "cell_type": "code",
   "execution_count": 4,
   "id": "33ff2b8d-71a3-434f-928f-34bb653af426",
   "metadata": {},
   "outputs": [
    {
     "name": "stdout",
     "output_type": "stream",
     "text": [
      "Name of student:  Aman\n",
      "Roll Number:  1\n",
      "Course:  PW Skills\n"
     ]
    }
   ],
   "source": [
    "s1= Student(\"Aman\",1,\"PW Skills\")\n",
    "s1.display()"
   ]
  },
  {
   "cell_type": "markdown",
   "id": "21f69d5b-adf2-4778-bece-30bf72b68174",
   "metadata": {},
   "source": [
    "Q4. Why self is used in OOPs?"
   ]
  },
  {
   "cell_type": "markdown",
   "id": "b23685a0-4fe2-4e47-a14e-0484fb463088",
   "metadata": {},
   "source": [
    "Ans.\n",
    "- \"self\" is a keyword in python that binds the attributes with is arguments.\n",
    "- It represents an instance of a class.\n",
    "- Only with the help of self, we can access the attributes and method in a class.\n",
    "- self is the first parameter of any class method that tells the class that the given method is its instance.\n",
    "- eg:"
   ]
  },
  {
   "cell_type": "code",
   "execution_count": 5,
   "id": "ce12e82b-8738-4b53-abbd-39eea04e9932",
   "metadata": {},
   "outputs": [],
   "source": [
    "class Welcome:\n",
    "    def display(self):\n",
    "        return \"Hi, my name is Somya. Welcome to my place\""
   ]
  },
  {
   "cell_type": "markdown",
   "id": "c2f41489-b00f-43a2-b89e-3b7d41d1eceb",
   "metadata": {},
   "source": [
    "Q5. What is inheritance? Give an example for each type of inheritance."
   ]
  },
  {
   "cell_type": "markdown",
   "id": "7ac42ec1-20b5-4390-b061-a31cb56a09f7",
   "metadata": {},
   "source": [
    "Ans.\n",
    "- The property of child class to inherit the properties of base/ parent class is known as inheritance.\n",
    "- It is similar to the way that son/ daughter inherity the property of mother and father ,i.e., their parent.\n",
    "- There are various types of inheritance supported by  Python. They are:"
   ]
  },
  {
   "cell_type": "markdown",
   "id": "7b7f5c1a-6ac6-4ca0-a596-84f900c7f761",
   "metadata": {},
   "source": [
    "1. Single Inheritance: when a child class inherits the property of only one base class"
   ]
  },
  {
   "cell_type": "code",
   "execution_count": 6,
   "id": "039c4663-c024-4f34-9b14-5458c0e2d6b5",
   "metadata": {},
   "outputs": [],
   "source": [
    "class vehicle:\n",
    "    def machine(self):\n",
    "        return \"A vehicle is a machine that takes people from one place to another\"\n",
    "\n",
    "class car(vehicle):\n",
    "    def machine2(self):\n",
    "        return \"A car is a vehicle with 4 wheels and takes people from one place to another by road\""
   ]
  },
  {
   "cell_type": "code",
   "execution_count": 7,
   "id": "15516a0f-9c25-4102-8502-6d1851e0cd77",
   "metadata": {},
   "outputs": [],
   "source": [
    "obj_car = car()"
   ]
  },
  {
   "cell_type": "code",
   "execution_count": 8,
   "id": "23283172-d3df-4594-9419-f781d9f44507",
   "metadata": {},
   "outputs": [
    {
     "data": {
      "text/plain": [
       "'A car is a vehicle with 4 wheels and takes people from one place to another by road'"
      ]
     },
     "execution_count": 8,
     "metadata": {},
     "output_type": "execute_result"
    }
   ],
   "source": [
    "obj_car.machine2()"
   ]
  },
  {
   "cell_type": "code",
   "execution_count": 9,
   "id": "fbf7bac6-c064-4c60-be42-a6357add50df",
   "metadata": {},
   "outputs": [
    {
     "data": {
      "text/plain": [
       "'A vehicle is a machine that takes people from one place to another'"
      ]
     },
     "execution_count": 9,
     "metadata": {},
     "output_type": "execute_result"
    }
   ],
   "source": [
    "obj_car.machine()"
   ]
  },
  {
   "cell_type": "markdown",
   "id": "01e3e44d-611c-40fc-a156-84bcbae95df5",
   "metadata": {},
   "source": [
    "2. Multiple Inheritance: when a child class inherits the properties of 2 base classes."
   ]
  },
  {
   "cell_type": "code",
   "execution_count": 10,
   "id": "f235d668-c44a-4ce6-8127-f9a6a9183831",
   "metadata": {},
   "outputs": [],
   "source": [
    "class mother:\n",
    "    def msg_mum(self):\n",
    "        return \"Stay safe\"\n",
    "class father:\n",
    "    def msg_fath(self):\n",
    "        return \"You can do it\"\n",
    "class kid(mother, father):\n",
    "    pass"
   ]
  },
  {
   "cell_type": "code",
   "execution_count": 11,
   "id": "4d9a8022-a128-4966-821e-b1b606cb0995",
   "metadata": {},
   "outputs": [],
   "source": [
    "obj_kid= kid()"
   ]
  },
  {
   "cell_type": "code",
   "execution_count": 12,
   "id": "abd9d0ad-e133-493f-9a37-ca6117a4f705",
   "metadata": {},
   "outputs": [
    {
     "data": {
      "text/plain": [
       "'You can do it'"
      ]
     },
     "execution_count": 12,
     "metadata": {},
     "output_type": "execute_result"
    }
   ],
   "source": [
    "obj_kid.msg_fath()"
   ]
  },
  {
   "cell_type": "code",
   "execution_count": 13,
   "id": "7907bd7c-86f0-4b4e-850d-256da78281f6",
   "metadata": {},
   "outputs": [
    {
     "data": {
      "text/plain": [
       "'Stay safe'"
      ]
     },
     "execution_count": 13,
     "metadata": {},
     "output_type": "execute_result"
    }
   ],
   "source": [
    "obj_kid.msg_mum()"
   ]
  },
  {
   "cell_type": "markdown",
   "id": "ab6f58b4-08e3-4ea8-9811-4b1a10a2679d",
   "metadata": {},
   "source": [
    "3. Multilevel Inheritance: the base class and derived class is further inherited in the derived classes "
   ]
  },
  {
   "cell_type": "code",
   "execution_count": 14,
   "id": "f98d821e-3c0f-4074-b29f-4ba02adb61b0",
   "metadata": {},
   "outputs": [],
   "source": [
    "class grandfather:\n",
    "    def msg1(self):\n",
    "        return \"message from grandfather: You should respect your elders\"\n",
    "class dad(grandfather):\n",
    "    def msg2(self):\n",
    "        return \"message from dad: You should complete your work on time\"\n",
    "class son(dad):\n",
    "    pass"
   ]
  },
  {
   "cell_type": "code",
   "execution_count": 15,
   "id": "4ff529d3-9852-43e3-a760-ae4c6263cb72",
   "metadata": {},
   "outputs": [],
   "source": [
    "obj_son= son()"
   ]
  },
  {
   "cell_type": "code",
   "execution_count": 16,
   "id": "1324e6ac-5582-4564-8442-50176d1b6b90",
   "metadata": {},
   "outputs": [
    {
     "data": {
      "text/plain": [
       "'message from dad: You should complete your work on time'"
      ]
     },
     "execution_count": 16,
     "metadata": {},
     "output_type": "execute_result"
    }
   ],
   "source": [
    "obj_son.msg2()"
   ]
  },
  {
   "cell_type": "code",
   "execution_count": 17,
   "id": "13d0ce87-5b2e-4202-9abb-396b15f5c95f",
   "metadata": {},
   "outputs": [
    {
     "data": {
      "text/plain": [
       "'message from grandfather: You should respect your elders'"
      ]
     },
     "execution_count": 17,
     "metadata": {},
     "output_type": "execute_result"
    }
   ],
   "source": [
    "obj_son.msg1()"
   ]
  },
  {
   "cell_type": "markdown",
   "id": "346854d5-050e-46ee-8d7d-da56ccb4f656",
   "metadata": {},
   "source": [
    "4. Hierarchical Inheritance: more than one class is derived from the base class "
   ]
  },
  {
   "cell_type": "markdown",
   "id": "2263afc5-2b87-4795-878b-60df943420e4",
   "metadata": {},
   "source": [
    "5. Hybrid Inheritance: the inheritance consisting of different types of inheritance."
   ]
  },
  {
   "cell_type": "code",
   "execution_count": null,
   "id": "fa4e996d-d8b4-4f7a-9178-68caf2c18b27",
   "metadata": {},
   "outputs": [],
   "source": []
  }
 ],
 "metadata": {
  "kernelspec": {
   "display_name": "Python 3 (ipykernel)",
   "language": "python",
   "name": "python3"
  },
  "language_info": {
   "codemirror_mode": {
    "name": "ipython",
    "version": 3
   },
   "file_extension": ".py",
   "mimetype": "text/x-python",
   "name": "python",
   "nbconvert_exporter": "python",
   "pygments_lexer": "ipython3",
   "version": "3.10.8"
  }
 },
 "nbformat": 4,
 "nbformat_minor": 5
}
