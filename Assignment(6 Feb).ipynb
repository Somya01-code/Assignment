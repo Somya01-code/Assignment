{
 "cells": [
  {
   "cell_type": "markdown",
   "id": "1f85c788-b520-48e5-bc24-d9809a38163f",
   "metadata": {},
   "source": [
    "# PYTHON ASSIGNMENT-7 (6 FEB 2023) :  TASK-1"
   ]
  },
  {
   "cell_type": "markdown",
   "id": "7a8b2753-7719-44c9-b26e-61e04ff8caf5",
   "metadata": {},
   "source": [
    "Q1. Create a function which will take a list as an argument and return the product of all the numbers after creating a flat list. Use the below-given list as an argument for your function.\n",
    "\n",
    "list1 = [1,2,3,4, [44,55,66, True], False, (34,56,78,89,34), {1,2,3,3,2,1}, {1:34, \"key2\": [55, 67, 78, 89], 4: (45,\n",
    "22, 61, 34)}, [56, 'data science'], 'Machine Learning']\n",
    "\n",
    "Note: you must extract numeric keys and values of the dictionary also."
   ]
  },
  {
   "cell_type": "code",
   "execution_count": 1,
   "id": "c18de1c1-f06e-4925-b8a9-5af5f7850bb9",
   "metadata": {},
   "outputs": [],
   "source": [
    "list1 = [1,2,3,4, [44,55,66, True], False, \n",
    "         (34,56,78,89,34), {1,2,3,3,2,1}, \n",
    "         {1:34, \"key2\": [55, 67, 78, 89], 4: (45,22, 61, 34)},\n",
    "         [56, 'data science'], \n",
    "         'Machine Learning']"
   ]
  },
  {
   "cell_type": "code",
   "execution_count": 2,
   "id": "54147294-8ae0-4788-9f9f-75d25aa76b5c",
   "metadata": {},
   "outputs": [],
   "source": [
    "from functools import reduce\n",
    "def numbers(l):\n",
    "    l1=[]\n",
    "    mul_func=lambda x,y: x*y\n",
    "    \n",
    "    for i in list1:\n",
    "        if type(i)==int:\n",
    "            l1.append(i)\n",
    "            \n",
    "        elif type(i)==tuple or  type(i)==set:\n",
    "            l1.append(reduce(mul_func,i))\n",
    "            \n",
    "        elif type(i)==list:\n",
    "            l1+= [j for j in i if type(j)== int]\n",
    "            \n",
    "        elif type(i)==dict:\n",
    "            l1+= [k for k,v in i.items() if type(k)==int]\n",
    "            l1+= [v for k,v in i.items() if type(v)==int]\n",
    "            for k,v in i.items():\n",
    "                if type(v)==tuple or  type(v)==list:\n",
    "                    l1.append(reduce(mul_func,v))\n",
    "            \n",
    "    return (reduce(mul_func,l1))"
   ]
  },
  {
   "cell_type": "code",
   "execution_count": 3,
   "id": "5efc38b4-b86b-4983-8f40-a0427cd5a32f",
   "metadata": {},
   "outputs": [
    {
     "data": {
      "text/plain": [
       "4134711838987085478833841242112000"
      ]
     },
     "execution_count": 3,
     "metadata": {},
     "output_type": "execute_result"
    }
   ],
   "source": [
    "numbers(list1)"
   ]
  },
  {
   "cell_type": "markdown",
   "id": "c8e68247-174a-47ad-bed9-36ad43e0bc9c",
   "metadata": {},
   "source": [
    "Q2. Write a python program for encrypting a message sent to you by your friend. The logic of encryption should be such that, for a the output should be z. For b, the output should be y. For c, the output should be x respectively. Also, the whitespace should be replaced with a dollar sign. Keep the punctuation marks unchanged.\n",
    "\n",
    "Input Sentence: I want to become a Data Scientist.\n",
    "\n",
    "Encrypt the above input sentence using the program you just created.\n",
    "\n",
    "Note: Convert the given input sentence into lowercase before encrypting. The final output should be\n",
    "lowercase."
   ]
  },
  {
   "cell_type": "code",
   "execution_count": 4,
   "id": "6fe4a1b0-5668-4e09-8ce3-e31d3047afb1",
   "metadata": {},
   "outputs": [],
   "source": [
    "from functools import reduce\n",
    "\n",
    "def decrypt_msg(s):\n",
    "    l1= s.lower()\n",
    "    d={'a':'z', 'b':'y', 'c':'x', 'd':'w', 'e':'v',\n",
    "       'f':'u', 'g':'t', 'h':'s', 'i':'r', 'j':'q',\n",
    "       'k':'p', 'l':'o', 'm':'n', 'n':'m', 'o':'l',\n",
    "       'p':'k', 'q':'j', 'r':'i', 's':'h', 't':'g',\n",
    "       'u':'f', 'v':'e', 'w':'d', 'x':'c', 'y':'b', 'z':'a','$':' '}\n",
    "    l2=[]\n",
    "    for i in l1:\n",
    "        if i==\" \":\n",
    "            l2.append('$')\n",
    "        for k,v in d.items():\n",
    "            if i==k:\n",
    "                l2.append(v)\n",
    "                \n",
    "    listToStr = reduce(lambda a, b : a+ \" \" +str(b), l2)\n",
    "    return(listToStr+\".\")\n"
   ]
  },
  {
   "cell_type": "code",
   "execution_count": 5,
   "id": "81f6288f-adc3-452b-b22e-fc50c4bdb3fd",
   "metadata": {},
   "outputs": [
    {
     "name": "stdout",
     "output_type": "stream",
     "text": [
      "The decrypted message is:  r $ d z m g $ g l $ y v x l n v $ z $ w z g z $ h x r v m g r h g.\n"
     ]
    }
   ],
   "source": [
    "s=\"I want to become a Data Scientist.\"\n",
    "res= decrypt_msg(s)\n",
    "print(\"The decrypted message is: \", res)"
   ]
  }
 ],
 "metadata": {
  "kernelspec": {
   "display_name": "Python 3 (ipykernel)",
   "language": "python",
   "name": "python3"
  },
  "language_info": {
   "codemirror_mode": {
    "name": "ipython",
    "version": 3
   },
   "file_extension": ".py",
   "mimetype": "text/x-python",
   "name": "python",
   "nbconvert_exporter": "python",
   "pygments_lexer": "ipython3",
   "version": "3.10.8"
  }
 },
 "nbformat": 4,
 "nbformat_minor": 5
}
