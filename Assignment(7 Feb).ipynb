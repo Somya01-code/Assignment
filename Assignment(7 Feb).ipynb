{
 "cells": [
  {
   "cell_type": "markdown",
   "id": "44e22531-bf7c-4927-8d7f-14387f26efaa",
   "metadata": {},
   "source": [
    "# PYTHON ASSIGNMENT-8 (7 FEB 2023) : TASK-2"
   ]
  },
  {
   "cell_type": "markdown",
   "id": "9f5e9566-e100-4932-b34f-fb53e6fd509c",
   "metadata": {},
   "source": [
    "Q1. You are writing code for a company. The requirement of the company is that you create a python function that will check whether the password entered by the user is correct or not. The function should take the password as input and return the string “Valid Password” if the entered password follows the below-given password guidelines else it should return “Invalid Password”.\n",
    "Note: \n",
    "1. The Password should contain at least two uppercase letters and at least two lowercase letters.\n",
    "2. The Password should contain at least a number and three special characters.\n",
    "3. The length of the password should be 10 characters long."
   ]
  },
  {
   "cell_type": "code",
   "execution_count": 1,
   "id": "19b8dc8d-8169-4556-867d-acde06437802",
   "metadata": {},
   "outputs": [],
   "source": [
    "\n",
    "def passCheck(string):\n",
    "    \n",
    "    if len(string)!=10:\n",
    "        return \"Invalid Password\"\n",
    "    else:\n",
    "        special_char=0\n",
    "        digit=0\n",
    "        upper=0\n",
    "        lower=0\n",
    "        for i in range(0, len(pas)):\n",
    "            ch= string[i]\n",
    "            if (string[i].isalpha()):  \n",
    "                if string[i].islower():\n",
    "                    lower=lower+1\n",
    "                else:\n",
    "                    upper=upper+1\n",
    "            elif (string[i].isdigit()):\n",
    "                digit+=1\n",
    "            else: \n",
    "                special_char += 1\n",
    "        if upper>=2 and lower>=2 and digit>=1 and special_char>=3:\n",
    "            return \"Valid Password\"\n",
    "        else:\n",
    "            return \"Invalid Password\"\n",
    "        # return(upper,lower,special_char, digit)"
   ]
  },
  {
   "cell_type": "code",
   "execution_count": 2,
   "id": "21fa6489-b1fc-4c79-b005-8671f52fe4ad",
   "metadata": {},
   "outputs": [
    {
     "data": {
      "text/plain": [
       "'Valid Password'"
      ]
     },
     "execution_count": 2,
     "metadata": {},
     "output_type": "execute_result"
    }
   ],
   "source": [
    "pas=\"$s0mYA@ga#\"\n",
    "passCheck(pas)"
   ]
  },
  {
   "cell_type": "markdown",
   "id": "40657b8f-ade8-41d7-b141-e22347dd44b8",
   "metadata": {},
   "source": [
    "Q2. Solve the below-given questions using at least one of the following:\n",
    "1. Lambda function\n",
    "2. Filter function\n",
    "3. Zap function\n",
    "4. List Comprehension\n",
    "- Check if the string starts with a particular letter.\n",
    "- Check if the string is numeric.\n",
    "- Sort a list of tuples having fruit names and their quantity. [(\"mango\",99),(\"orange\",80), (\"grapes\", 1000)]\n",
    "- Find the squares of numbers from 1 to 10.\n",
    "- Find the cube root of numbers from 1 to 10.\n",
    "- Check if a given number is even.\n",
    "- Filter odd numbers from the given list.\n",
    "[1,2,3,4,5,6,7,8,9,10]\n",
    "- Sort a list of integers into positive and negative integers lists.\n",
    "[1,2,3,4,5,6,-1,-2,-3,-4,-5,0]"
   ]
  },
  {
   "cell_type": "code",
   "execution_count": 3,
   "id": "0cacab37-1f88-4401-826a-2c0265636008",
   "metadata": {},
   "outputs": [
    {
     "name": "stdin",
     "output_type": "stream",
     "text": [
      "Enter the string:  ABCDE\n",
      "Enter the character:  A\n"
     ]
    },
    {
     "name": "stdout",
     "output_type": "stream",
     "text": [
      "True\n"
     ]
    }
   ],
   "source": [
    "# 1. Check if the string starts with particular letter:\n",
    "string=input(\"Enter the string: \")\n",
    "ch=input(\"Enter the character: \")\n",
    "result = lambda x: True if x.startswith(ch) else False\n",
    "print(result(string))"
   ]
  },
  {
   "cell_type": "code",
   "execution_count": 4,
   "id": "154334a2-e2af-4eab-a99c-0ea01c8f1d39",
   "metadata": {},
   "outputs": [
    {
     "name": "stdin",
     "output_type": "stream",
     "text": [
      "Enter the string:  1234567890\n"
     ]
    },
    {
     "name": "stdout",
     "output_type": "stream",
     "text": [
      "True\n"
     ]
    }
   ],
   "source": [
    "# 2. Check if the string is numeric.\n",
    "st= input(\"Enter the string: \")\n",
    "res= lambda x: True if x.isnumeric() else False\n",
    "print(res(st))\n"
   ]
  },
  {
   "cell_type": "code",
   "execution_count": 5,
   "id": "a94fd10b-618b-4a95-87ba-6906e7f22428",
   "metadata": {},
   "outputs": [],
   "source": [
    "# 3. Sort a list of tuples having fruit names and their quantity.\n",
    "def sort_tup(tup):\n",
    "    tup.sort(key= lambda x:x[1])\n",
    "    return tup\n"
   ]
  },
  {
   "cell_type": "code",
   "execution_count": 6,
   "id": "9ba3fa6e-26d6-4d4f-ba15-7acd6ae01a68",
   "metadata": {},
   "outputs": [
    {
     "name": "stdout",
     "output_type": "stream",
     "text": [
      "[('orange', 80), ('mango', 99), ('grapes', 1000)]\n"
     ]
    }
   ],
   "source": [
    "tup = [(\"mango\",99),(\"orange\",80), (\"grapes\", 1000)]\n",
    "print(sort_tup(tup))"
   ]
  },
  {
   "cell_type": "code",
   "execution_count": 7,
   "id": "54433e3f-da80-4cb1-98de-9e199f3c4bb2",
   "metadata": {},
   "outputs": [
    {
     "data": {
      "text/plain": [
       "[1, 4, 9, 16, 25, 36, 49, 64, 81, 100]"
      ]
     },
     "execution_count": 7,
     "metadata": {},
     "output_type": "execute_result"
    }
   ],
   "source": [
    "# 4. Find the squares of numbers from 1 to 10.\n",
    "l=list(range(1,11))\n",
    "list(map( lambda x: x**2, l))"
   ]
  },
  {
   "cell_type": "code",
   "execution_count": 8,
   "id": "eeaa2adc-338b-40b9-bd58-e1aa42f8311e",
   "metadata": {},
   "outputs": [
    {
     "data": {
      "text/plain": [
       "[1.0,\n",
       " 1.2599210498948732,\n",
       " 1.4422495703074083,\n",
       " 1.5874010519681994,\n",
       " 1.7099759466766968,\n",
       " 1.8171205928321397,\n",
       " 1.912931182772389,\n",
       " 2.0,\n",
       " 2.080083823051904,\n",
       " 2.154434690031884]"
      ]
     },
     "execution_count": 8,
     "metadata": {},
     "output_type": "execute_result"
    }
   ],
   "source": [
    "# 5. Find the cube root of numbers from 1 to 10.\n",
    "l1= list(range(1,11))\n",
    "list(map(lambda x: x**(1/3),l1))"
   ]
  },
  {
   "cell_type": "code",
   "execution_count": 9,
   "id": "a91901b4-0fef-46d4-a00a-f5080a2a6a0d",
   "metadata": {},
   "outputs": [
    {
     "name": "stdin",
     "output_type": "stream",
     "text": [
      "Enter the number:  678\n"
     ]
    },
    {
     "data": {
      "text/plain": [
       "True"
      ]
     },
     "execution_count": 9,
     "metadata": {},
     "output_type": "execute_result"
    }
   ],
   "source": [
    "# 6. Check if a given number is even.\n",
    "num= int(input(\"Enter the number: \"))\n",
    "is_even= lambda x: True if x%2 ==0 else False\n",
    "is_even(num)"
   ]
  },
  {
   "cell_type": "code",
   "execution_count": 10,
   "id": "5e2d64a7-4a8c-49b1-bcb6-0105d4ebb0a2",
   "metadata": {},
   "outputs": [
    {
     "data": {
      "text/plain": [
       "[1, 3, 5, 7, 9]"
      ]
     },
     "execution_count": 10,
     "metadata": {},
     "output_type": "execute_result"
    }
   ],
   "source": [
    "# 7. Filter odd numbers from the given list.\n",
    "l= [1,2,3,4,5,6,7,8,9,10]\n",
    "list(filter(lambda x: x%2!=0,l))"
   ]
  },
  {
   "cell_type": "code",
   "execution_count": 11,
   "id": "3c980cb4-4936-4df1-9214-d97b1fdba094",
   "metadata": {},
   "outputs": [
    {
     "name": "stdout",
     "output_type": "stream",
     "text": [
      "list of positive numbers: [1, 2, 3, 4, 5, 6]\n",
      "list of negative numbers: [-1, -2, -3, -4, -5]\n"
     ]
    }
   ],
   "source": [
    "# 8. Sort a list of integers into positive and negative integers lists.\n",
    "l=[1,2,3,4,5,6,-1,-2,-3,-4,-5,0]\n",
    "positive= list(filter(lambda x: x>0,l))\n",
    "negative= list(filter(lambda x: x<0,l))\n",
    "\n",
    "print(\"list of positive numbers:\", positive)\n",
    "print(\"list of negative numbers:\", negative)"
   ]
  },
  {
   "cell_type": "code",
   "execution_count": null,
   "id": "00d88fba-d210-44b3-ac4e-6ee83425a4c6",
   "metadata": {},
   "outputs": [],
   "source": []
  }
 ],
 "metadata": {
  "kernelspec": {
   "display_name": "Python 3 (ipykernel)",
   "language": "python",
   "name": "python3"
  },
  "language_info": {
   "codemirror_mode": {
    "name": "ipython",
    "version": 3
   },
   "file_extension": ".py",
   "mimetype": "text/x-python",
   "name": "python",
   "nbconvert_exporter": "python",
   "pygments_lexer": "ipython3",
   "version": "3.10.8"
  }
 },
 "nbformat": 4,
 "nbformat_minor": 5
}
